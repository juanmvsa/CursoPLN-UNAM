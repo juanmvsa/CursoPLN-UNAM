{
  "nbformat": 4,
  "nbformat_minor": 0,
  "metadata": {
    "colab": {
      "name": "Semana 4 - input/output y funciones",
      "provenance": [],
      "collapsed_sections": []
    },
    "kernelspec": {
      "name": "python3",
      "display_name": "Python 3"
    },
    "language_info": {
      "name": "python"
    }
  },
  "cells": [
    {
      "cell_type": "markdown",
      "metadata": {
        "id": "1KaXXxbYKYC_"
      },
      "source": [
        "# 1. Introducción"
      ]
    },
    {
      "cell_type": "markdown",
      "metadata": {
        "id": "q5_cwf-qKaEl"
      },
      "source": [
        "Hasta ahora hemos introducido la información directamente en nuestras líneas de código. Sin embargo, en la práctica esto limita la funcionalidad de nuestros programas. Es por esto que existen varias maneras de introducir datos a programas de Python. \n",
        "\n",
        "Los métodos existentes son:\n",
        "\n",
        "* Línea de comando: La información se introduce directamente a la terminal de la computadora.\n",
        "* Entrada estándar: Los programas toman información de otros programas.\n",
        "* Entrada por teclado: El usuario introduce manualmente información que pide el programa.\n",
        "* Entrada-salida por archivos: El programa puede leer y escribir directamente sobre archivos. En este curso nos enfocaremos en archivos de texto, pero se pueden usar otro tipo de archivos también (como archivos de audio).\n",
        "* Web: Se puede leer información directamente de sitios web."
      ]
    },
    {
      "cell_type": "markdown",
      "metadata": {
        "id": "VrlIfQoUN9RF"
      },
      "source": [
        "# 2. Entrada por teclado"
      ]
    },
    {
      "cell_type": "markdown",
      "metadata": {
        "id": "wjvJDNGFOAEC"
      },
      "source": [
        "Para pedirle al usuario que ingrese información desde su teclado, simplemente usamos la función `input()`. Lo que el usuario introduzca se guarda en una variable que puede ser utilizada después."
      ]
    },
    {
      "cell_type": "code",
      "metadata": {
        "colab": {
          "base_uri": "https://localhost:8080/"
        },
        "id": "hHHsi-ooLZBM",
        "outputId": "7b83bf36-d334-487c-f066-11f468ccbfbe"
      },
      "source": [
        "n1 = input('Introduce un número: ')\n",
        "n2 = input('Introduce un número: ')\n",
        "\n",
        "n3 = int(n1) + int(n2) # define la suma entre enteros\n",
        "\n",
        "print('La suma es:', n3) # imprime el resultado"
      ],
      "execution_count": null,
      "outputs": [
        {
          "output_type": "stream",
          "name": "stdout",
          "text": [
            "Introduce un número: 10\n",
            "Introduce un número: 20\n",
            "La suma es: 30\n"
          ]
        }
      ]
    },
    {
      "cell_type": "code",
      "metadata": {
        "id": "tiKt4g8-MNEh",
        "colab": {
          "base_uri": "https://localhost:8080/"
        },
        "outputId": "5c25f690-2543-4780-eff2-ef223652f7c9"
      },
      "source": [
        "# Este programa genera una letra aleatoria\n",
        "# luego pide al usuario ingresar una letra \n",
        "# finalmente, el usuario debe advinar la letra generada\n",
        "# aleatoriamente. Cuando esto suceda el programa termina.\n",
        "import random\n",
        "\n",
        "letras = 'abcdefghijklmnopqrstuvwxyz'\n",
        "\n",
        "# toma una letra aleatoria\n",
        "aleatoria = letras[random.randint(0, 25)] # aleatoria = letras[5] = f\n",
        "\n",
        "# ejecuta mientras sea cierto\n",
        "while True: \n",
        "  adivina = input('Escribe una letra minúscula: ') # z ingresada por usuario\n",
        "  # checa que lo que se ingresó sí es una letra minúscula\n",
        "  if adivina not in letras:\n",
        "    print(\"Esto no es una letra minúscula.\") \n",
        "    break\n",
        "  # si se ingresó una letra minúscula, imprime \"Bien\"  \n",
        "  if adivina == aleatoria: \n",
        "    print(\"Adivinaste la letra del programa :)\")\n",
        "    break\n",
        "  # consejo: la letra del programa esta después, en orden alfabético\n",
        "  if adivina > aleatoria:\n",
        "    print(\"La letra secreta esta antes en el alfabeto.\") \n",
        "  # consejo: la letra del programa esta antes, en orden alfabético\n",
        "  else:\n",
        "    print(\"La letra secreta esta después en el alfabeto.\")"
      ],
      "execution_count": null,
      "outputs": [
        {
          "output_type": "stream",
          "name": "stdout",
          "text": [
            "Escribe una letra minúscula: z\n",
            "La letra secreta esta después en el alfabeto.\n",
            "Escribe una letra minúscula: f\n",
            "La letra secreta esta después en el alfabeto.\n",
            "Escribe una letra minúscula: a\n",
            "La letra secreta esta antes en el alfabeto.\n",
            "Escribe una letra minúscula: b\n",
            "Adivinaste la letra del programa :)\n"
          ]
        }
      ]
    },
    {
      "cell_type": "markdown",
      "metadata": {
        "id": "uCLrgpE8TKtZ"
      },
      "source": [
        "# 2. Cargar archivos"
      ]
    },
    {
      "cell_type": "markdown",
      "metadata": {
        "id": "y4T_jTiXmdJH"
      },
      "source": [
        "A continuación estudiaremos cómo abrir archivos de texto para manipulación con Python."
      ]
    },
    {
      "cell_type": "code",
      "metadata": {
        "id": "OaVLv34_lreB",
        "colab": {
          "base_uri": "https://localhost:8080/"
        },
        "outputId": "30e02657-d73f-451b-f9dc-73c7cba02460"
      },
      "source": [
        "# abre un archivo con extensión .txt\n",
        "archivo = open('/content/drive/MyDrive/Intro a PLN/NLP - UNAM 2021/paises.txt','r')\n",
        "# lee el archivo usando la función read()\n",
        "lectura = archivo.read() \n",
        "# cierra el archivo\n",
        "archivo.close() \n",
        "# imprime los contenidos del archivo ya guardados en la variable lectura\n",
        "print(lectura) "
      ],
      "execution_count": null,
      "outputs": [
        {
          "output_type": "stream",
          "name": "stdout",
          "text": [
            "[\n",
            " \"Afganistán\",\n",
            " \"Alandia\",\n",
            " \"Albania\",\n",
            " \"Argelia\",\n",
            " \"Samoa Americana\",\n",
            " \"Andorra\",\n",
            " \"Angola\",\n",
            " \"Anguilla\",\n",
            " \"Antártida\",\n",
            " \"Antigua y Barbuda\",\n",
            " \"Argentina\",\n",
            " \"Armenia\",\n",
            " \"Aruba\",\n",
            " \"Australia\",\n",
            " \"Austria\",\n",
            " \"Azerbaiyán\",\n",
            " \"Bahamas\",\n",
            " \"Bahrein\",\n",
            " \"Bangladesh\",\n",
            " \"Barbados\",\n",
            " \"Bielorrusia\",\n",
            " \"Bélgica\",\n",
            " \"Belice\",\n",
            " \"Benín\",\n",
            " \"Bermudas\",\n",
            " \"Bután\",\n",
            " \"Bolivia\",\n",
            " \"Bosnia y Herzegovina\",\n",
            " \"Botswana\",\n",
            " \"Isla Bouvet\",\n",
            " \"Brasil\",\n",
            " \"Territorio Británico del Océano Índico\",\n",
            " \"Islas Ultramarinas Menores de Estados Unidos\",\n",
            " \"Islas Vírgenes del Reino Unido\",\n",
            " \"Islas Vírgenes de los Estados Unidos\",\n",
            " \"Brunei\",\n",
            " \"Bulgaria\",\n",
            " \"Burkina Faso\",\n",
            " \"Burundi\",\n",
            " \"Camboya\",\n",
            " \"Camerún\",\n",
            " \"Canadá\",\n",
            " \"Cabo Verde\",\n",
            " \"Islas Caimán\",\n",
            " \"República Centroafricana\",\n",
            " \"Chad\",\n",
            " \"Chile\",\n",
            " \"China\",\n",
            " \"Isla de Navidad\",\n",
            " \"Islas Cocos o Islas Keeling\",\n",
            " \"Colombia\",\n",
            " \"Comoras\",\n",
            " \"Congo\",\n",
            " \"Congo (Rep. Dem.)\",\n",
            " \"Islas Cook\",\n",
            " \"Costa Rica\",\n",
            " \"Croacia\",\n",
            " \"Cuba\",\n",
            " \"Chipre\",\n",
            " \"República Checa\",\n",
            " \"Dinamarca\",\n",
            " \"Yibuti\",\n",
            " \"Dominica\",\n",
            " \"República Dominicana\",\n",
            " \"Ecuador\",\n",
            " \"Egipto\",\n",
            " \"El Salvador\",\n",
            " \"Guinea Ecuatorial\",\n",
            " \"Eritrea\",\n",
            " \"Estonia\",\n",
            " \"Etiopía\",\n",
            " \"Islas Malvinas\",\n",
            " \"Islas Faroe\",\n",
            " \"Fiyi\",\n",
            " \"Finlandia\",\n",
            " \"Francia\",\n",
            " \"Guayana Francesa\",\n",
            " \"Polinesia Francesa\",\n",
            " \"Tierras Australes y Antárticas Francesas\",\n",
            " \"Gabón\",\n",
            " \"Gambia\",\n",
            " \"Georgia\",\n",
            " \"Alemania\",\n",
            " \"Ghana\",\n",
            " \"Gibraltar\",\n",
            " \"Grecia\",\n",
            " \"Groenlandia\",\n",
            " \"Grenada\",\n",
            " \"Guadalupe\",\n",
            " \"Guam\",\n",
            " \"Guatemala\",\n",
            " \"Guernsey\",\n",
            " \"Guinea\",\n",
            " \"Guinea-Bisáu\",\n",
            " \"Guyana\",\n",
            " \"Haiti\",\n",
            " \"Islas Heard y McDonald\",\n",
            " \"Santa Sede\",\n",
            " \"Honduras\",\n",
            " \"Hong Kong\",\n",
            " \"Hungría\",\n",
            " \"Islandia\",\n",
            " \"India\",\n",
            " \"Indonesia\",\n",
            " \"Costa de Marfil\",\n",
            " \"Iran\",\n",
            " \"Irak\",\n",
            " \"Irlanda\",\n",
            " \"Isla de Man\",\n",
            " \"Israel\",\n",
            " \"Italia\",\n",
            " \"Jamaica\",\n",
            " \"Japón\",\n",
            " \"Jersey\",\n",
            " \"Jordania\",\n",
            " \"Kazajistán\",\n",
            " \"Kenia\",\n",
            " \"Kiribati\",\n",
            " \"Kuwait\",\n",
            " \"Kirguizistán\",\n",
            " \"Laos\",\n",
            " \"Letonia\",\n",
            " \"Líbano\",\n",
            " \"Lesotho\",\n",
            " \"Liberia\",\n",
            " \"Libia\",\n",
            " \"Liechtenstein\",\n",
            " \"Lituania\",\n",
            " \"Luxemburgo\",\n",
            " \"Macao\",\n",
            " \"Macedonia\",\n",
            " \"Madagascar\",\n",
            " \"Malawi\",\n",
            " \"Malasia\",\n",
            " \"Maldivas\",\n",
            " \"Mali\",\n",
            " \"Malta\",\n",
            " \"Islas Marshall\",\n",
            " \"Martinica\",\n",
            " \"Mauritania\",\n",
            " \"Mauricio\",\n",
            " \"Mayotte\",\n",
            " \"México\",\n",
            " \"Micronesia\",\n",
            " \"Moldavia\",\n",
            " \"Mónaco\",\n",
            " \"Mongolia\",\n",
            " \"Montenegro\",\n",
            " \"Montserrat\",\n",
            " \"Marruecos\",\n",
            " \"Mozambique\",\n",
            " \"Myanmar\",\n",
            " \"Namibia\",\n",
            " \"Nauru\",\n",
            " \"Nepal\",\n",
            " \"Países Bajos\",\n",
            " \"Nueva Caledonia\",\n",
            " \"Nueva Zelanda\",\n",
            " \"Nicaragua\",\n",
            " \"Níger\",\n",
            " \"Nigeria\",\n",
            " \"Niue\",\n",
            " \"Isla de Norfolk\",\n",
            " \"Corea del Norte\",\n",
            " \"Islas Marianas del Norte\",\n",
            " \"Noruega\",\n",
            " \"Omán\",\n",
            " \"Pakistán\",\n",
            " \"Palau\",\n",
            " \"Palestina\",\n",
            " \"Panamá\",\n",
            " \"Papúa Nueva Guinea\",\n",
            " \"Paraguay\",\n",
            " \"Perú\",\n",
            " \"Filipinas\",\n",
            " \"Islas Pitcairn\",\n",
            " \"Polonia\",\n",
            " \"Portugal\",\n",
            " \"Puerto Rico\",\n",
            " \"Catar\",\n",
            " \"Kosovo\",\n",
            " \"Reunión\",\n",
            " \"Rumania\",\n",
            " \"Rusia\",\n",
            " \"Ruanda\",\n",
            " \"San Bartolomé\",\n",
            " \"Santa Helena\",\n",
            " \"San Cristóbal y Nieves\",\n",
            " \"Santa Lucía\",\n",
            " \"Saint Martin\",\n",
            " \"San Pedro y Miquelón\",\n",
            " \"San Vicente y Granadinas\",\n",
            " \"Samoa\",\n",
            " \"San Marino\",\n",
            " \"Santo Tomé y Príncipe\",\n",
            " \"Arabia Saudí\",\n",
            " \"Senegal\",\n",
            " \"Serbia\",\n",
            " \"Seychelles\",\n",
            " \"Sierra Leone\",\n",
            " \"Singapur\",\n",
            " \"República Eslovaca\",\n",
            " \"Eslovenia\",\n",
            " \"Islas Salomón\",\n",
            " \"Somalia\",\n",
            " \"República de Sudáfrica\",\n",
            " \"Islas Georgias del Sur y Sandwich del Sur\",\n",
            " \"Corea del Sur\",\n",
            " \"Sudán del Sur\",\n",
            " \"España\",\n",
            " \"Sri Lanka\",\n",
            " \"Sudán\",\n",
            " \"Surinam\",\n",
            " \"Islas Svalbard y Jan Mayen\",\n",
            " \"Suazilandia\",\n",
            " \"Suecia\",\n",
            " \"Suiza\",\n",
            " \"Siria\",\n",
            " \"Taiwán\",\n",
            " \"Tayikistán\",\n",
            " \"Tanzania\",\n",
            " \"Tailandia\",\n",
            " \"Timor Oriental\",\n",
            " \"Togo\",\n",
            " \"Islas Tokelau\",\n",
            " \"Tonga\",\n",
            " \"Trinidad y Tobago\",\n",
            " \"Túnez\",\n",
            " \"Turquía\",\n",
            " \"Turkmenistán\",\n",
            " \"Islas Turks y Caicos\",\n",
            " \"Tuvalu\",\n",
            " \"Uganda\",\n",
            " \"Ucrania\",\n",
            " \"Emiratos Árabes Unidos\",\n",
            " \"Reino Unido\",\n",
            " \"Estados Unidos\",\n",
            " \"Uruguay\",\n",
            " \"Uzbekistán\",\n",
            " \"Vanuatu\",\n",
            " \"Venezuela\",\n",
            " \"Vietnam\",\n",
            " \"Wallis y Futuna\",\n",
            " \"Sahara Occidental\",\n",
            " \"Yemen\",\n",
            " \"Zambia\",\n",
            " \"Zimbabue\"\n",
            "]\n",
            "\n"
          ]
        }
      ]
    },
    {
      "cell_type": "code",
      "metadata": {
        "colab": {
          "base_uri": "https://localhost:8080/"
        },
        "id": "aoHxr4JqjtDU",
        "outputId": "06c8f441-1fb7-48cf-9e04-02c4254dad7a"
      },
      "source": [
        "len(lectura)"
      ],
      "execution_count": null,
      "outputs": [
        {
          "output_type": "execute_result",
          "data": {
            "text/plain": [
              "3692"
            ]
          },
          "metadata": {},
          "execution_count": 7
        }
      ]
    },
    {
      "cell_type": "code",
      "metadata": {
        "id": "F3VqDxOcgHkZ"
      },
      "source": [
        "variable = 'Escribe texto... '"
      ],
      "execution_count": null,
      "outputs": []
    },
    {
      "cell_type": "code",
      "metadata": {
        "id": "2heYXtTmlzrO"
      },
      "source": [
        "# abre un archivo con extensión .txt\n",
        "archivo = open('/content/drive/MyDrive/Intro a PLN/NLP - UNAM 2021/paises.txt','r')\n",
        "# lee el archivo usando la función read()\n",
        "lectura = archivo.read() \n",
        "# cierra el archivo\n",
        "archivo.close() \n",
        "\n",
        "for linea in lectura:\n",
        "  print('Número de letras en esta línea: ',\n",
        "        len(linea), ',', linea)"
      ],
      "execution_count": null,
      "outputs": []
    },
    {
      "cell_type": "markdown",
      "metadata": {
        "id": "nOXG4IJhp_G4"
      },
      "source": [
        "# 3. Librería Pandas: carga y exploración de bases de datos"
      ]
    },
    {
      "cell_type": "markdown",
      "metadata": {
        "id": "dVFISORzRoEL"
      },
      "source": [
        "https://github.com/jpposadas/FakeNewsCorpusSpanish"
      ]
    },
    {
      "cell_type": "code",
      "metadata": {
        "id": "G5ezUo0SqOYI"
      },
      "source": [
        "import pandas as pd"
      ],
      "execution_count": null,
      "outputs": []
    },
    {
      "cell_type": "code",
      "metadata": {
        "id": "OH4HqYanqP4L"
      },
      "source": [
        "# Muy importante especificar la ruta en donde se \n",
        "# encuentra localizado el archivo a abrir\n",
        "\n",
        "RUTA = '/content/drive/MyDrive/Intro a PLN/NLP - UNAM 2021/train.xlsx'\n",
        "\n",
        "# Guarda la información del archivo de Excel en \n",
        "# una variable \"archivo\". Esta variable contendrá\n",
        "# toda la información del archivo de Excel, y nos \n",
        "# permitirá manipular la información contenida en él.\n",
        "archivo = pd.read_excel(RUTA)"
      ],
      "execution_count": null,
      "outputs": []
    },
    {
      "cell_type": "code",
      "metadata": {
        "id": "eSmnAMaUqhmY",
        "colab": {
          "base_uri": "https://localhost:8080/",
          "height": 518
        },
        "outputId": "c1de78d6-b4bd-4531-f765-c685a814517a"
      },
      "source": [
        "archivo"
      ],
      "execution_count": null,
      "outputs": [
        {
          "output_type": "execute_result",
          "data": {
            "text/html": [
              "<div>\n",
              "<style scoped>\n",
              "    .dataframe tbody tr th:only-of-type {\n",
              "        vertical-align: middle;\n",
              "    }\n",
              "\n",
              "    .dataframe tbody tr th {\n",
              "        vertical-align: top;\n",
              "    }\n",
              "\n",
              "    .dataframe thead th {\n",
              "        text-align: right;\n",
              "    }\n",
              "</style>\n",
              "<table border=\"1\" class=\"dataframe\">\n",
              "  <thead>\n",
              "    <tr style=\"text-align: right;\">\n",
              "      <th></th>\n",
              "      <th>Id</th>\n",
              "      <th>Category</th>\n",
              "      <th>Topic</th>\n",
              "      <th>Source</th>\n",
              "      <th>Headline</th>\n",
              "      <th>Text</th>\n",
              "      <th>Link</th>\n",
              "    </tr>\n",
              "  </thead>\n",
              "  <tbody>\n",
              "    <tr>\n",
              "      <th>0</th>\n",
              "      <td>1</td>\n",
              "      <td>Fake</td>\n",
              "      <td>Education</td>\n",
              "      <td>El Ruinaversal</td>\n",
              "      <td>RAE INCLUIRÁ LA PALABRA \"LADY\" EN EL DICCIONAR...</td>\n",
              "      <td>RAE INCLUIRÁ LA PALABRA \"LADY\" EN EL DICCIONAR...</td>\n",
              "      <td>http://www.elruinaversal.com/2017/06/10/rae-in...</td>\n",
              "    </tr>\n",
              "    <tr>\n",
              "      <th>1</th>\n",
              "      <td>2</td>\n",
              "      <td>Fake</td>\n",
              "      <td>Education</td>\n",
              "      <td>Hay noticia</td>\n",
              "      <td>La palabra \"haiga\", aceptada por la RAE</td>\n",
              "      <td>La palabra \"haiga\", aceptada por la RAE La Rea...</td>\n",
              "      <td>https://haynoticia.es/la-palabra-haiga-aceptad...</td>\n",
              "    </tr>\n",
              "    <tr>\n",
              "      <th>2</th>\n",
              "      <td>3</td>\n",
              "      <td>Fake</td>\n",
              "      <td>Education</td>\n",
              "      <td>El Ruinaversal</td>\n",
              "      <td>YORDI ROSADO ESCRIBIRÁ Y DISEÑARÁ LOS NUEVOS L...</td>\n",
              "      <td>YORDI ROSADO ESCRIBIRÁ Y DISEÑARÁ LOS NUEVOS L...</td>\n",
              "      <td>http://www.elruinaversal.com/2018/05/06/yordi-...</td>\n",
              "    </tr>\n",
              "    <tr>\n",
              "      <th>3</th>\n",
              "      <td>4</td>\n",
              "      <td>True</td>\n",
              "      <td>Education</td>\n",
              "      <td>EL UNIVERSAL</td>\n",
              "      <td>UNAM capacitará a maestros para aprobar prueba...</td>\n",
              "      <td>UNAM capacitará a maestros para aprobar prueba...</td>\n",
              "      <td>http://www.eluniversal.com.mx/articulo/nacion/...</td>\n",
              "    </tr>\n",
              "    <tr>\n",
              "      <th>4</th>\n",
              "      <td>5</td>\n",
              "      <td>Fake</td>\n",
              "      <td>Education</td>\n",
              "      <td>Lamula</td>\n",
              "      <td>pretenden aprobar libros escolares con conteni...</td>\n",
              "      <td>Alerta: pretenden aprobar libros escolares con...</td>\n",
              "      <td>https://redaccion.lamula.pe/2018/06/19/memoria...</td>\n",
              "    </tr>\n",
              "    <tr>\n",
              "      <th>...</th>\n",
              "      <td>...</td>\n",
              "      <td>...</td>\n",
              "      <td>...</td>\n",
              "      <td>...</td>\n",
              "      <td>...</td>\n",
              "      <td>...</td>\n",
              "      <td>...</td>\n",
              "    </tr>\n",
              "    <tr>\n",
              "      <th>671</th>\n",
              "      <td>672</td>\n",
              "      <td>Fake</td>\n",
              "      <td>Entertainment</td>\n",
              "      <td>El Dizque</td>\n",
              "      <td>Madonna será la nueva imagen del Chocolate Abu...</td>\n",
              "      <td>Madonna será la nueva imagen del Chocolate Abu...</td>\n",
              "      <td>https://www.eldizque.com/madonna-sera-la-nueva...</td>\n",
              "    </tr>\n",
              "    <tr>\n",
              "      <th>672</th>\n",
              "      <td>673</td>\n",
              "      <td>True</td>\n",
              "      <td>Entertainment</td>\n",
              "      <td>Radio Formula</td>\n",
              "      <td>Filtran material íntimo de Zelina Vega, luchad...</td>\n",
              "      <td>Filtran material íntimo de Zelina Vega, luchad...</td>\n",
              "      <td>http://www.radioformula.com.mx/notas.asp?Idn=7...</td>\n",
              "    </tr>\n",
              "    <tr>\n",
              "      <th>673</th>\n",
              "      <td>674</td>\n",
              "      <td>Fake</td>\n",
              "      <td>Entertainment</td>\n",
              "      <td>La Voz Popular</td>\n",
              "      <td>CBS PLANEA GRAN HERMANO EN LA CASA BLANCA CON ...</td>\n",
              "      <td>CBS PLANEA GRAN HERMANO EN LA CASA BLANCA CON ...</td>\n",
              "      <td>http://lavozpopular.com/cbs-planea-gran-herman...</td>\n",
              "    </tr>\n",
              "    <tr>\n",
              "      <th>674</th>\n",
              "      <td>675</td>\n",
              "      <td>Fake</td>\n",
              "      <td>Entertainment</td>\n",
              "      <td>El Dizque</td>\n",
              "      <td>TV Azteca anuncia que cambiará su nombre por u...</td>\n",
              "      <td>TV Azteca anuncia que cambiará su nombre por u...</td>\n",
              "      <td>https://www.eldizque.com/tv-azteca-anuncia-que...</td>\n",
              "    </tr>\n",
              "    <tr>\n",
              "      <th>675</th>\n",
              "      <td>676</td>\n",
              "      <td>Fake</td>\n",
              "      <td>Entertainment</td>\n",
              "      <td>La voz popular</td>\n",
              "      <td>MUERTE DE PETER EL ANGUILA POR SOBREDOSIS</td>\n",
              "      <td>MUERTE DE PETER EL ANGUILA POR SOBREDOSIS\\nPet...</td>\n",
              "      <td>http://lavozpopular.com/muerte-peter-el-anguil...</td>\n",
              "    </tr>\n",
              "  </tbody>\n",
              "</table>\n",
              "<p>676 rows × 7 columns</p>\n",
              "</div>"
            ],
            "text/plain": [
              "      Id  ...                                               Link\n",
              "0      1  ...  http://www.elruinaversal.com/2017/06/10/rae-in...\n",
              "1      2  ...  https://haynoticia.es/la-palabra-haiga-aceptad...\n",
              "2      3  ...  http://www.elruinaversal.com/2018/05/06/yordi-...\n",
              "3      4  ...  http://www.eluniversal.com.mx/articulo/nacion/...\n",
              "4      5  ...  https://redaccion.lamula.pe/2018/06/19/memoria...\n",
              "..   ...  ...                                                ...\n",
              "671  672  ...  https://www.eldizque.com/madonna-sera-la-nueva...\n",
              "672  673  ...  http://www.radioformula.com.mx/notas.asp?Idn=7...\n",
              "673  674  ...  http://lavozpopular.com/cbs-planea-gran-herman...\n",
              "674  675  ...  https://www.eldizque.com/tv-azteca-anuncia-que...\n",
              "675  676  ...  http://lavozpopular.com/muerte-peter-el-anguil...\n",
              "\n",
              "[676 rows x 7 columns]"
            ]
          },
          "metadata": {},
          "execution_count": 6
        }
      ]
    },
    {
      "cell_type": "code",
      "metadata": {
        "id": "8Lu_2FHFodEz",
        "colab": {
          "base_uri": "https://localhost:8080/"
        },
        "outputId": "95e2245e-99e1-4a37-ba59-8a38d0781dbc"
      },
      "source": [
        "archivo['Category'].value_counts()"
      ],
      "execution_count": null,
      "outputs": [
        {
          "output_type": "execute_result",
          "data": {
            "text/plain": [
              "True    338\n",
              "Fake    338\n",
              "Name: Category, dtype: int64"
            ]
          },
          "metadata": {},
          "execution_count": 22
        }
      ]
    },
    {
      "cell_type": "code",
      "metadata": {
        "colab": {
          "base_uri": "https://localhost:8080/"
        },
        "id": "ySafjBZsrUKb",
        "outputId": "da654beb-100f-44e9-bc48-08a8a610082a"
      },
      "source": [
        "archivo.info()"
      ],
      "execution_count": null,
      "outputs": [
        {
          "output_type": "stream",
          "name": "stdout",
          "text": [
            "<class 'pandas.core.frame.DataFrame'>\n",
            "RangeIndex: 676 entries, 0 to 675\n",
            "Data columns (total 7 columns):\n",
            " #   Column    Non-Null Count  Dtype \n",
            "---  ------    --------------  ----- \n",
            " 0   Id        676 non-null    int64 \n",
            " 1   Category  676 non-null    object\n",
            " 2   Topic     676 non-null    object\n",
            " 3   Source    676 non-null    object\n",
            " 4   Headline  676 non-null    object\n",
            " 5   Text      676 non-null    object\n",
            " 6   Link      676 non-null    object\n",
            "dtypes: int64(1), object(6)\n",
            "memory usage: 37.1+ KB\n"
          ]
        }
      ]
    },
    {
      "cell_type": "code",
      "metadata": {
        "colab": {
          "base_uri": "https://localhost:8080/"
        },
        "id": "gwxCgfvFq4yn",
        "outputId": "c56b70f0-0fc9-4a45-8717-dd59c74660b9"
      },
      "source": [
        "archivo.columns"
      ],
      "execution_count": null,
      "outputs": [
        {
          "output_type": "execute_result",
          "data": {
            "text/plain": [
              "Index(['Id', 'Category', 'Topic', 'Source', 'Headline', 'Text', 'Link'], dtype='object')"
            ]
          },
          "metadata": {},
          "execution_count": 14
        }
      ]
    },
    {
      "cell_type": "code",
      "metadata": {
        "colab": {
          "base_uri": "https://localhost:8080/"
        },
        "id": "RuWwunSiq576",
        "outputId": "5a054b8d-ba04-4338-dc9c-1bb60e725c81"
      },
      "source": [
        "archivo['Text'] # regresa sólo las primeras y últimas filas"
      ],
      "execution_count": null,
      "outputs": [
        {
          "output_type": "execute_result",
          "data": {
            "text/plain": [
              "0      RAE INCLUIRÁ LA PALABRA \"LADY\" EN EL DICCIONAR...\n",
              "1      La palabra \"haiga\", aceptada por la RAE La Rea...\n",
              "2      YORDI ROSADO ESCRIBIRÁ Y DISEÑARÁ LOS NUEVOS L...\n",
              "3      UNAM capacitará a maestros para aprobar prueba...\n",
              "4      Alerta: pretenden aprobar libros escolares con...\n",
              "                             ...                        \n",
              "671    Madonna será la nueva imagen del Chocolate Abu...\n",
              "672    Filtran material íntimo de Zelina Vega, luchad...\n",
              "673    CBS PLANEA GRAN HERMANO EN LA CASA BLANCA CON ...\n",
              "674    TV Azteca anuncia que cambiará su nombre por u...\n",
              "675    MUERTE DE PETER EL ANGUILA POR SOBREDOSIS\\nPet...\n",
              "Name: Text, Length: 676, dtype: object"
            ]
          },
          "metadata": {},
          "execution_count": 21
        }
      ]
    },
    {
      "cell_type": "code",
      "metadata": {
        "colab": {
          "base_uri": "https://localhost:8080/"
        },
        "id": "ksGZXyBGrJAP",
        "outputId": "024febf2-9fbe-4ac3-c0d5-9c98f16d2377"
      },
      "source": [
        "archivo['Topic'].value_counts() "
      ],
      "execution_count": null,
      "outputs": [
        {
          "output_type": "execute_result",
          "data": {
            "text/plain": [
              "Politics         226\n",
              "Entertainment    103\n",
              "Society           93\n",
              "Sport             86\n",
              "Science           62\n",
              "Health            32\n",
              "Economy           30\n",
              "Security          29\n",
              "Education         15\n",
              "Name: Topic, dtype: int64"
            ]
          },
          "metadata": {},
          "execution_count": 19
        }
      ]
    },
    {
      "cell_type": "markdown",
      "metadata": {
        "id": "cXCMBQTBj9OD"
      },
      "source": [
        "Pandas permite cargar datos en diversos formatos. \n",
        "\n",
        "https://pandas.pydata.org/pandas-docs/stable/reference/io.html"
      ]
    },
    {
      "cell_type": "markdown",
      "metadata": {
        "id": "zjXmJnPfruRc"
      },
      "source": [
        "# 4. Escritura en archivos"
      ]
    },
    {
      "cell_type": "markdown",
      "metadata": {
        "id": "5WEhoLm3nmlT"
      },
      "source": [
        "Para escribir en un archivo, primero se debe crear (en caso de que no exista ya) en una ruta especificada. Una vez creado el nuevo archivo, se escriben en él los datos deseados. Finalmente, se debe cerrar el archivo, pues Python necesita saber explicitamente que los cambios han finalizado y se puede guardar el nuevo archivo.\n",
        "\n",
        "Si se desea escribir sobre un archivo ya existente, primero se debe abrir el archivo (como lo hicimos anteriormente). Luego, se escribe la información deseada, y finalmente se cierra el archivo.\n",
        "\n",
        "A continuación un ejemplo de cómo crear un nuevo archivo de texto en el que se guardarán dos líneas de texto."
      ]
    },
    {
      "cell_type": "code",
      "metadata": {
        "id": "wLQqNaRwrwW1"
      },
      "source": [
        "# Muy importante especificar la ruta en donde se guardará el archivo nuevo\n",
        "PATH = '/content/drive/MyDrive/...' # ingresar la ruta particular al Drive de cada usuario\n",
        "\n",
        "# Abre el archivo nuevo\n",
        "archivo_de_salida = open(PATH + '/archivo_prueba.txt','w') # la 'w' indica escritura (write)\n",
        "# Escribe en el archivo\n",
        "archivo_de_salida.write('algo de texto.\\n') \n",
        "archivo_de_salida.write('...y más texto !\\n') \n",
        "archivo_de_salida.close() # cierra el archivo"
      ],
      "execution_count": null,
      "outputs": []
    },
    {
      "cell_type": "markdown",
      "metadata": {
        "id": "BfOjV33covWt"
      },
      "source": [
        "Cuando se genera información a partir de un programa de Python, es conveniente guardar los resultados en un archivo .txt, pues esta extensión es ligera, fácil de cargar y de manipular por diversos lenguajes de programación. No es conveniente guardar resultados en archivos de Word, pues los archivos de Word contienen información que puede meter ruido a nuestros resultados. Otro formato conveniente es .csv, pues este permite ordenar la información en filas y columnas (como Excel, pero de una manera más eficiente y ligera. Excel tampoco es un formato conveniente)."
      ]
    },
    {
      "cell_type": "markdown",
      "metadata": {
        "id": "IP4m1AbImMT7"
      },
      "source": [
        "## 5. Ejercicio\n",
        "\n",
        "De la base de datos cargada anteriormente, crear un nuevo archivo de texto (.txt) que contenga únicamente la columna \"Text\". La información en dicha columna debe empezar con una mayúscula, y el resto del texto debe estar en minúsculas. Asímismo, el archivo de texto debe contener, al final, la cuenta del número de veces que aparece la palabra \"UNAM\" en la columna \"Text\"."
      ]
    },
    {
      "cell_type": "code",
      "metadata": {
        "id": "5sOp00WcmNpI"
      },
      "source": [
        "columna_deseada = str(archivo['Text'])"
      ],
      "execution_count": null,
      "outputs": []
    },
    {
      "cell_type": "code",
      "metadata": {
        "id": "XFBl7vEfqSIl",
        "colab": {
          "base_uri": "https://localhost:8080/",
          "height": 86
        },
        "outputId": "9a4c3be0-9207-4a97-bd27-b8b4b5664087"
      },
      "source": [
        "columna_deseada"
      ],
      "execution_count": null,
      "outputs": [
        {
          "output_type": "execute_result",
          "data": {
            "application/vnd.google.colaboratory.intrinsic+json": {
              "type": "string"
            },
            "text/plain": [
              "'0      RAE INCLUIRÁ LA PALABRA \"LADY\" EN EL DICCIONAR...\\n1      La palabra \"haiga\", aceptada por la RAE La Rea...\\n2      YORDI ROSADO ESCRIBIRÁ Y DISEÑARÁ LOS NUEVOS L...\\n3      UNAM capacitará a maestros para aprobar prueba...\\n4      Alerta: pretenden aprobar libros escolares con...\\n                             ...                        \\n671    Madonna será la nueva imagen del Chocolate Abu...\\n672    Filtran material íntimo de Zelina Vega, luchad...\\n673    CBS PLANEA GRAN HERMANO EN LA CASA BLANCA CON ...\\n674    TV Azteca anuncia que cambiará su nombre por u...\\n675    MUERTE DE PETER EL ANGUILA POR SOBREDOSIS\\\\nPet...\\nName: Text, Length: 676, dtype: object'"
            ]
          },
          "metadata": {},
          "execution_count": 8
        }
      ]
    },
    {
      "cell_type": "code",
      "metadata": {
        "id": "yxrfMCLHrSY1",
        "colab": {
          "base_uri": "https://localhost:8080/",
          "height": 35
        },
        "outputId": "336e5b84-72cd-4599-c829-ae5d39e4055e"
      },
      "source": [
        "columna_deseada[100]"
      ],
      "execution_count": null,
      "outputs": [
        {
          "output_type": "execute_result",
          "data": {
            "application/vnd.google.colaboratory.intrinsic+json": {
              "type": "string"
            },
            "text/plain": [
              "'R'"
            ]
          },
          "metadata": {},
          "execution_count": 11
        }
      ]
    },
    {
      "cell_type": "code",
      "metadata": {
        "id": "ZZ95RhnWq9Mg"
      },
      "source": [
        "len(mayusculas)"
      ],
      "execution_count": null,
      "outputs": []
    },
    {
      "cell_type": "code",
      "metadata": {
        "id": "pR2fd04FqnOr"
      },
      "source": [
        "textos = []\n",
        "\n",
        "for fila in archivo['Text']:\n",
        "  textos.append(fila)"
      ],
      "execution_count": null,
      "outputs": []
    },
    {
      "cell_type": "code",
      "metadata": {
        "id": "aVHs0DGHq3hl",
        "colab": {
          "base_uri": "https://localhost:8080/"
        },
        "outputId": "572a0098-9709-4e8e-f2f2-8e43a5cf5d24"
      },
      "source": [
        "len(textos)"
      ],
      "execution_count": null,
      "outputs": [
        {
          "output_type": "execute_result",
          "data": {
            "text/plain": [
              "676"
            ]
          },
          "metadata": {},
          "execution_count": 14
        }
      ]
    },
    {
      "cell_type": "code",
      "metadata": {
        "id": "RWAYKhl-rELK",
        "colab": {
          "base_uri": "https://localhost:8080/",
          "height": 120
        },
        "outputId": "fc11d9c0-f79a-4ba0-e70e-7287d08d2870"
      },
      "source": [
        "textos[0]"
      ],
      "execution_count": null,
      "outputs": [
        {
          "output_type": "execute_result",
          "data": {
            "application/vnd.google.colaboratory.intrinsic+json": {
              "type": "string"
            },
            "text/plain": [
              "'RAE INCLUIRÁ LA PALABRA \"LADY\" EN EL DICCIONARIO DEL IDIOMA ESPAÑOL COMO DEFINICIÓN DE \"MUJER PROBLEMÁTICA\"\\nEspaña.- El presidente de la Real Academia Española (RAE), Darío Villanueva, informó en conferencia de prensa que a partir del próximo mes se incluirá el término \"Lady\" como una nueva palabra en el diccionario del idioma español.\\nDarío señaló que \"Lady\" servirá para definir a una \"mujer problemática\" o a una \"mujer que causa problemas\", y mencionó que esta palabra será una de las pocas que también se utilizan en el idioma inglés pero que en castellano tiene un significado diferente:\\n\"Son contadas las palabras del idioma inglés que se utilizan en el español pero que tienen otro significado. Con la globalización las personas han comenzado a adoptar términos anglosajones pero los utilizan con su significado real, sin embargo en este caso la expresión Lady no significará lo mismo que en su idioma original (\"dama\" en inglés) sino que se usará para definir a una mujer que es problemática o acostumbra causar problemas y alborotos.\\nLa gente podrá decirle Lady a una fémina que cause algún escándalo, sea agresiva o provoque algún tipo de problema. El término dejara de considerarse una palabra exclusiva del idioma inglés ya que tras se incluida en el diccionario de la lengua española también pasara ser una palabra oficial del castellano, pero con un significado distinto\", confesó.\\nVillanueva presentó a los medios la definición oficial que aparecerá en los diccionarios, señalando que será la siguiente:\\n-Lady\\nDel anglosajón Ænglisc, part. de Difficilis \\'problematica\\', ferox \\'agresiva\\'\\n*NUMBER*.- adj. f. Mujer excesivamente problemática\\n*NUMBER*.- adj. f. Mujer que causa problemas o alborotos\\n*NUMBER*.- adj. f. Mujer que tiende a causar conflictos, es agresiva\\nTe puede interesar Cholas descubren que las Donitas Bimbo también se pueden comer y no solo sirven para maquillarse\\n*NUMBER*.- adj. f. Mujer que se guía por sus instintos animales, que no le importa crear conflictos\\nEl presidente señaló que fue uno de los miembros mexicanos de la RAE quien propuso incluir la palabra, y tras meses de análisis finamente fue aceptada por el comité:\\n\"Es una término que tuvo su origen en México pero se usará en todos los países de habla hispana. Los videos de las Lady´s que han circulado nos sirvieron para crear una perfecta definición, la cual servirá para resumir y definir a una hembra problemática\", dijo\\nPor último, Darío reveló que también ya se encuentran analizando la idea de incluir el término Lord en el diccionario, que sería el equivalente a la definición masculina de Lady.'"
            ]
          },
          "metadata": {},
          "execution_count": 20
        }
      ]
    },
    {
      "cell_type": "code",
      "metadata": {
        "id": "xzdvGCM_tMZ9",
        "colab": {
          "base_uri": "https://localhost:8080/"
        },
        "outputId": "d34e657e-5119-4ad4-e035-f8d81a2c117d"
      },
      "source": [
        "contador = 0\n",
        "\n",
        "for fila in textos:\n",
        "  if 'UNAM' in fila:\n",
        "    contador = contador + 1\n",
        "\n",
        "print('La palabra UNAM aparece', contador, 'veces en total.')"
      ],
      "execution_count": null,
      "outputs": [
        {
          "output_type": "stream",
          "name": "stdout",
          "text": [
            "La palabra UNAM aparece 16 veces en total.\n"
          ]
        }
      ]
    },
    {
      "cell_type": "markdown",
      "metadata": {
        "id": "suzhBIgwnBSD"
      },
      "source": [
        "fila = segundo elemento de la lista textos\n",
        "textos = lista con 676 elementos\n",
        "\n",
        "if 'UNAM' in primer elemento de la lista textos\n",
        "contador = 0 +1 = 1"
      ]
    },
    {
      "cell_type": "code",
      "metadata": {
        "id": "8nDNMCY3rO1L"
      },
      "source": [
        "formato = []\n",
        "\n",
        "for fila in textos:\n",
        "  minusculas = fila.lower()\n",
        "  mayusculas = minusculas.capitalize()\n",
        "  formato.append(mayusculas)"
      ],
      "execution_count": null,
      "outputs": []
    },
    {
      "cell_type": "code",
      "metadata": {
        "colab": {
          "base_uri": "https://localhost:8080/"
        },
        "id": "5ue4j_erqKNp",
        "outputId": "94305398-71d8-4d7a-c91a-b7a5e13c79a1"
      },
      "source": [
        "type(formato)"
      ],
      "execution_count": null,
      "outputs": [
        {
          "output_type": "execute_result",
          "data": {
            "text/plain": [
              "list"
            ]
          },
          "metadata": {},
          "execution_count": 33
        }
      ]
    },
    {
      "cell_type": "code",
      "metadata": {
        "colab": {
          "base_uri": "https://localhost:8080/",
          "height": 120
        },
        "id": "wKbT9FlKpLFn",
        "outputId": "40398dc9-393c-4cdf-c17b-567dad27aec3"
      },
      "source": [
        "fila = textos[1]\n",
        "fila"
      ],
      "execution_count": null,
      "outputs": [
        {
          "output_type": "execute_result",
          "data": {
            "application/vnd.google.colaboratory.intrinsic+json": {
              "type": "string"
            },
            "text/plain": [
              "'La palabra \"haiga\", aceptada por la RAE La Real Academia de la Lengua (RAE), ha aceptado el uso de \"HAIGA\", para su utilización en las tres personas del singular del presente del subjuntivo del verbo hacer, aunque asegura que la forma más recomendable en la lengua culta para este tiempo, sigue siendo \"haya\".\\nAsí lo han confirmado fuentes de la RAE, que explican que este cambio ha sido propuesto y aprobado por el pleno de la Academia de la Lengua, tras la extendida utilización por todo el territorio nacional, sobre todo, empleado por personas carentes de estudios o con estudios básicos de graduado escolar. Ya no será objeto de burla ese compañero que a diario repite aquello de \"Mientras que haiga faena, no podemos quejarnos\" o esa abuela que repite aquello de \"El que haiga sacao los juguetes, que los recoja\".\\nEntre otras palabras novedosas que ha aceptado la RAE, contamos también con \"Descambiar\", significa deshacer un cambio, por ejemplo \"devolver la compra\". Visto lo visto, nadie apostaría que la palabra \"follamigos\" sea la siguiente de la lista.'"
            ]
          },
          "metadata": {},
          "execution_count": 27
        }
      ]
    },
    {
      "cell_type": "code",
      "metadata": {
        "colab": {
          "base_uri": "https://localhost:8080/",
          "height": 120
        },
        "id": "2veNObLjpRty",
        "outputId": "d83ee11b-658d-4b54-8262-70947c7dce5f"
      },
      "source": [
        "minusculas = fila.lower()\n",
        "minusculas"
      ],
      "execution_count": null,
      "outputs": [
        {
          "output_type": "execute_result",
          "data": {
            "application/vnd.google.colaboratory.intrinsic+json": {
              "type": "string"
            },
            "text/plain": [
              "'la palabra \"haiga\", aceptada por la rae la real academia de la lengua (rae), ha aceptado el uso de \"haiga\", para su utilización en las tres personas del singular del presente del subjuntivo del verbo hacer, aunque asegura que la forma más recomendable en la lengua culta para este tiempo, sigue siendo \"haya\".\\nasí lo han confirmado fuentes de la rae, que explican que este cambio ha sido propuesto y aprobado por el pleno de la academia de la lengua, tras la extendida utilización por todo el territorio nacional, sobre todo, empleado por personas carentes de estudios o con estudios básicos de graduado escolar. ya no será objeto de burla ese compañero que a diario repite aquello de \"mientras que haiga faena, no podemos quejarnos\" o esa abuela que repite aquello de \"el que haiga sacao los juguetes, que los recoja\".\\nentre otras palabras novedosas que ha aceptado la rae, contamos también con \"descambiar\", significa deshacer un cambio, por ejemplo \"devolver la compra\". visto lo visto, nadie apostaría que la palabra \"follamigos\" sea la siguiente de la lista.'"
            ]
          },
          "metadata": {},
          "execution_count": 28
        }
      ]
    },
    {
      "cell_type": "code",
      "metadata": {
        "colab": {
          "base_uri": "https://localhost:8080/",
          "height": 120
        },
        "id": "I4saoY9tpbwf",
        "outputId": "04ae2d6d-05bd-49aa-b540-9b3ec098339d"
      },
      "source": [
        "mayusculas = minusculas.capitalize()\n",
        "mayusculas"
      ],
      "execution_count": null,
      "outputs": [
        {
          "output_type": "execute_result",
          "data": {
            "application/vnd.google.colaboratory.intrinsic+json": {
              "type": "string"
            },
            "text/plain": [
              "'La palabra \"haiga\", aceptada por la rae la real academia de la lengua (rae), ha aceptado el uso de \"haiga\", para su utilización en las tres personas del singular del presente del subjuntivo del verbo hacer, aunque asegura que la forma más recomendable en la lengua culta para este tiempo, sigue siendo \"haya\".\\nasí lo han confirmado fuentes de la rae, que explican que este cambio ha sido propuesto y aprobado por el pleno de la academia de la lengua, tras la extendida utilización por todo el territorio nacional, sobre todo, empleado por personas carentes de estudios o con estudios básicos de graduado escolar. ya no será objeto de burla ese compañero que a diario repite aquello de \"mientras que haiga faena, no podemos quejarnos\" o esa abuela que repite aquello de \"el que haiga sacao los juguetes, que los recoja\".\\nentre otras palabras novedosas que ha aceptado la rae, contamos también con \"descambiar\", significa deshacer un cambio, por ejemplo \"devolver la compra\". visto lo visto, nadie apostaría que la palabra \"follamigos\" sea la siguiente de la lista.'"
            ]
          },
          "metadata": {},
          "execution_count": 29
        }
      ]
    },
    {
      "cell_type": "code",
      "metadata": {
        "id": "uy8UC3P3sCYK",
        "colab": {
          "base_uri": "https://localhost:8080/"
        },
        "outputId": "3afe8aba-fbaf-4eea-eab9-aeddfa8dbe04"
      },
      "source": [
        "print(formato[0])"
      ],
      "execution_count": null,
      "outputs": [
        {
          "output_type": "stream",
          "name": "stdout",
          "text": [
            "Rae incluirá la palabra \"lady\" en el diccionario del idioma español como definición de \"mujer problemática\"\n",
            "españa.- el presidente de la real academia española (rae), darío villanueva, informó en conferencia de prensa que a partir del próximo mes se incluirá el término \"lady\" como una nueva palabra en el diccionario del idioma español.\n",
            "darío señaló que \"lady\" servirá para definir a una \"mujer problemática\" o a una \"mujer que causa problemas\", y mencionó que esta palabra será una de las pocas que también se utilizan en el idioma inglés pero que en castellano tiene un significado diferente:\n",
            "\"son contadas las palabras del idioma inglés que se utilizan en el español pero que tienen otro significado. con la globalización las personas han comenzado a adoptar términos anglosajones pero los utilizan con su significado real, sin embargo en este caso la expresión lady no significará lo mismo que en su idioma original (\"dama\" en inglés) sino que se usará para definir a una mujer que es problemática o acostumbra causar problemas y alborotos.\n",
            "la gente podrá decirle lady a una fémina que cause algún escándalo, sea agresiva o provoque algún tipo de problema. el término dejara de considerarse una palabra exclusiva del idioma inglés ya que tras se incluida en el diccionario de la lengua española también pasara ser una palabra oficial del castellano, pero con un significado distinto\", confesó.\n",
            "villanueva presentó a los medios la definición oficial que aparecerá en los diccionarios, señalando que será la siguiente:\n",
            "-lady\n",
            "del anglosajón ænglisc, part. de difficilis 'problematica', ferox 'agresiva'\n",
            "*number*.- adj. f. mujer excesivamente problemática\n",
            "*number*.- adj. f. mujer que causa problemas o alborotos\n",
            "*number*.- adj. f. mujer que tiende a causar conflictos, es agresiva\n",
            "te puede interesar cholas descubren que las donitas bimbo también se pueden comer y no solo sirven para maquillarse\n",
            "*number*.- adj. f. mujer que se guía por sus instintos animales, que no le importa crear conflictos\n",
            "el presidente señaló que fue uno de los miembros mexicanos de la rae quien propuso incluir la palabra, y tras meses de análisis finamente fue aceptada por el comité:\n",
            "\"es una término que tuvo su origen en méxico pero se usará en todos los países de habla hispana. los videos de las lady´s que han circulado nos sirvieron para crear una perfecta definición, la cual servirá para resumir y definir a una hembra problemática\", dijo\n",
            "por último, darío reveló que también ya se encuentran analizando la idea de incluir el término lord en el diccionario, que sería el equivalente a la definición masculina de lady.\n"
          ]
        }
      ]
    },
    {
      "cell_type": "code",
      "metadata": {
        "id": "UA7oKHXDzxDb"
      },
      "source": [
        "cuenta_UNAM = 'La palabra UNAM aparece ' + str(contador) + ' veces en total.'\n",
        "\n",
        "formato.append(cuenta_UNAM)"
      ],
      "execution_count": null,
      "outputs": []
    },
    {
      "cell_type": "code",
      "metadata": {
        "id": "uwDZDg910Q-Z",
        "colab": {
          "base_uri": "https://localhost:8080/"
        },
        "outputId": "8bd11842-be9d-4ae3-b3c2-129791e0c2a6"
      },
      "source": [
        "print(formato[-1])"
      ],
      "execution_count": null,
      "outputs": [
        {
          "output_type": "stream",
          "name": "stdout",
          "text": [
            "La palabra UNAM aparece 16 veces en total.\n"
          ]
        }
      ]
    },
    {
      "cell_type": "code",
      "metadata": {
        "id": "4rwhUESJtz-N"
      },
      "source": [
        "PATH = '/content/drive/MyDrive/...' # Ruta particular al Drive de cada usuario\n",
        "\n",
        "# Abre el archivo nuevo\n",
        "archivo_de_salida = open(PATH + '/archivo_final.txt','w')\n",
        "\n",
        "# Escribe en el archivo\n",
        "for fila in formato:\n",
        "  archivo_de_salida.write(fila)\n",
        "\n",
        "archivo_de_salida.close() # cierra el archivo"
      ],
      "execution_count": null,
      "outputs": []
    },
    {
      "cell_type": "markdown",
      "metadata": {
        "id": "2I_9IsrV34lV"
      },
      "source": [
        "### Ejercicio: Obtener un archivo .txt que contenga la información en la columna \"Headline\". El texto debe estar todo en mayúsculas, salvo la primera letra de cada línea.\n"
      ]
    }
  ]
}