{
  "nbformat": 4,
  "nbformat_minor": 0,
  "metadata": {
    "colab": {
      "name": "Semana 8 Proyecto de revisión.ipynb",
      "provenance": []
    },
    "kernelspec": {
      "name": "python3",
      "display_name": "Python 3"
    },
    "language_info": {
      "name": "python"
    }
  },
  "cells": [
    {
      "cell_type": "markdown",
      "source": [
        "# Analizador de reseñas de Amazon en español"
      ],
      "metadata": {
        "id": "ocRbLGNGdWU5"
      }
    },
    {
      "cell_type": "markdown",
      "source": [
        "# 1. Leer un archivo .json desde Python\n",
        "\n",
        "Trabajaremos con dos archivos. Los dos contienen reseñas de usuarios de Amazon.\n",
        "La diferencia entre ambos archivos es que uno lo usaremos para entrenar un modelo de aprendizaje automático, y el otro para probar los resultados de ese modelo entrenado. Un archivo sirve para el aprendizaje, mientras que el otro se usa para evaluación."
      ],
      "metadata": {
        "id": "64TJjAlKLvuZ"
      }
    },
    {
      "cell_type": "code",
      "source": [
        "# Importamos pandas para manejar con facilidad los archivos con las reseñas.\n",
        "import pandas as pd\n",
        "\n",
        "# Abre un archivo con extensión \"\".json\". Se guardan en una variable.\n",
        "datos_originales = pd.read_json('/content/drive/MyDrive/NLP/Intro a PLN/NLP - UNAM 2021/dataset_es_train.json', lines=True)\n",
        "\n",
        "# Imprime los contenidos de la variable recién creada.\n",
        "datos_originales"
      ],
      "metadata": {
        "colab": {
          "base_uri": "https://localhost:8080/",
          "height": 424
        },
        "id": "bLZhoNdVxCXV",
        "outputId": "4cd49ab7-fa37-4b59-ec8e-c12425a64f88"
      },
      "execution_count": null,
      "outputs": [
        {
          "output_type": "execute_result",
          "data": {
            "text/html": [
              "<div>\n",
              "<style scoped>\n",
              "    .dataframe tbody tr th:only-of-type {\n",
              "        vertical-align: middle;\n",
              "    }\n",
              "\n",
              "    .dataframe tbody tr th {\n",
              "        vertical-align: top;\n",
              "    }\n",
              "\n",
              "    .dataframe thead th {\n",
              "        text-align: right;\n",
              "    }\n",
              "</style>\n",
              "<table border=\"1\" class=\"dataframe\">\n",
              "  <thead>\n",
              "    <tr style=\"text-align: right;\">\n",
              "      <th></th>\n",
              "      <th>review_id</th>\n",
              "      <th>product_id</th>\n",
              "      <th>reviewer_id</th>\n",
              "      <th>stars</th>\n",
              "      <th>review_body</th>\n",
              "      <th>review_title</th>\n",
              "      <th>language</th>\n",
              "      <th>product_category</th>\n",
              "    </tr>\n",
              "  </thead>\n",
              "  <tbody>\n",
              "    <tr>\n",
              "      <th>0</th>\n",
              "      <td>es_0491108</td>\n",
              "      <td>product_es_0296024</td>\n",
              "      <td>reviewer_es_0999081</td>\n",
              "      <td>1</td>\n",
              "      <td>Nada bueno se me fue ka pantalla en menos de 8...</td>\n",
              "      <td>television Nevir</td>\n",
              "      <td>es</td>\n",
              "      <td>electronics</td>\n",
              "    </tr>\n",
              "    <tr>\n",
              "      <th>1</th>\n",
              "      <td>es_0869872</td>\n",
              "      <td>product_es_0922286</td>\n",
              "      <td>reviewer_es_0216771</td>\n",
              "      <td>1</td>\n",
              "      <td>Horrible, nos tuvimos que comprar otro porque ...</td>\n",
              "      <td>Dinero tirado a la basura con esta compra</td>\n",
              "      <td>es</td>\n",
              "      <td>electronics</td>\n",
              "    </tr>\n",
              "    <tr>\n",
              "      <th>2</th>\n",
              "      <td>es_0811721</td>\n",
              "      <td>product_es_0474543</td>\n",
              "      <td>reviewer_es_0929213</td>\n",
              "      <td>1</td>\n",
              "      <td>Te obligan a comprar dos unidades y te llega s...</td>\n",
              "      <td>solo llega una unidad cuando te obligan a comp...</td>\n",
              "      <td>es</td>\n",
              "      <td>drugstore</td>\n",
              "    </tr>\n",
              "    <tr>\n",
              "      <th>3</th>\n",
              "      <td>es_0359921</td>\n",
              "      <td>product_es_0656090</td>\n",
              "      <td>reviewer_es_0224702</td>\n",
              "      <td>1</td>\n",
              "      <td>No entro en descalificar al vendedor, solo pue...</td>\n",
              "      <td>PRODUCTO NO RECIBIDO.</td>\n",
              "      <td>es</td>\n",
              "      <td>wireless</td>\n",
              "    </tr>\n",
              "    <tr>\n",
              "      <th>4</th>\n",
              "      <td>es_0068940</td>\n",
              "      <td>product_es_0662544</td>\n",
              "      <td>reviewer_es_0224827</td>\n",
              "      <td>1</td>\n",
              "      <td>Llega tarde y co la talla equivocada</td>\n",
              "      <td>Devuelto</td>\n",
              "      <td>es</td>\n",
              "      <td>shoes</td>\n",
              "    </tr>\n",
              "    <tr>\n",
              "      <th>...</th>\n",
              "      <td>...</td>\n",
              "      <td>...</td>\n",
              "      <td>...</td>\n",
              "      <td>...</td>\n",
              "      <td>...</td>\n",
              "      <td>...</td>\n",
              "      <td>...</td>\n",
              "      <td>...</td>\n",
              "    </tr>\n",
              "    <tr>\n",
              "      <th>199995</th>\n",
              "      <td>es_0715276</td>\n",
              "      <td>product_es_0317036</td>\n",
              "      <td>reviewer_es_0643604</td>\n",
              "      <td>5</td>\n",
              "      <td>Mando funciona perfectamente y cumple con toda...</td>\n",
              "      <td>Tal y como se describe</td>\n",
              "      <td>es</td>\n",
              "      <td>electronics</td>\n",
              "    </tr>\n",
              "    <tr>\n",
              "      <th>199996</th>\n",
              "      <td>es_0085190</td>\n",
              "      <td>product_es_0622919</td>\n",
              "      <td>reviewer_es_0466173</td>\n",
              "      <td>5</td>\n",
              "      <td>Compré la batería con cierta reticencia, pero ...</td>\n",
              "      <td>Funciona perfectamente</td>\n",
              "      <td>es</td>\n",
              "      <td>electronics</td>\n",
              "    </tr>\n",
              "    <tr>\n",
              "      <th>199997</th>\n",
              "      <td>es_0484496</td>\n",
              "      <td>product_es_0358101</td>\n",
              "      <td>reviewer_es_0330744</td>\n",
              "      <td>5</td>\n",
              "      <td>Buena calidad. Satisfecha con la compra.</td>\n",
              "      <td>Buena calidad.</td>\n",
              "      <td>es</td>\n",
              "      <td>apparel</td>\n",
              "    </tr>\n",
              "    <tr>\n",
              "      <th>199998</th>\n",
              "      <td>es_0930141</td>\n",
              "      <td>product_es_0788855</td>\n",
              "      <td>reviewer_es_0694290</td>\n",
              "      <td>5</td>\n",
              "      <td>Perfecto para el cumple de mi hijo</td>\n",
              "      <td>Recomendado</td>\n",
              "      <td>es</td>\n",
              "      <td>toy</td>\n",
              "    </tr>\n",
              "    <tr>\n",
              "      <th>199999</th>\n",
              "      <td>es_0859809</td>\n",
              "      <td>product_es_0378794</td>\n",
              "      <td>reviewer_es_0141717</td>\n",
              "      <td>5</td>\n",
              "      <td>Súper bien! Las brochas son buenas, no sé meno...</td>\n",
              "      <td>Preciosas</td>\n",
              "      <td>es</td>\n",
              "      <td>home</td>\n",
              "    </tr>\n",
              "  </tbody>\n",
              "</table>\n",
              "<p>200000 rows × 8 columns</p>\n",
              "</div>"
            ],
            "text/plain": [
              "         review_id          product_id  ... language  product_category\n",
              "0       es_0491108  product_es_0296024  ...       es       electronics\n",
              "1       es_0869872  product_es_0922286  ...       es       electronics\n",
              "2       es_0811721  product_es_0474543  ...       es         drugstore\n",
              "3       es_0359921  product_es_0656090  ...       es          wireless\n",
              "4       es_0068940  product_es_0662544  ...       es             shoes\n",
              "...            ...                 ...  ...      ...               ...\n",
              "199995  es_0715276  product_es_0317036  ...       es       electronics\n",
              "199996  es_0085190  product_es_0622919  ...       es       electronics\n",
              "199997  es_0484496  product_es_0358101  ...       es           apparel\n",
              "199998  es_0930141  product_es_0788855  ...       es               toy\n",
              "199999  es_0859809  product_es_0378794  ...       es              home\n",
              "\n",
              "[200000 rows x 8 columns]"
            ]
          },
          "metadata": {},
          "execution_count": 51
        }
      ]
    },
    {
      "cell_type": "code",
      "source": [
        "# Imprime sólo las primeras diez líneas dentro de la columna\n",
        "# 'review_title' del archivo cargado previamente.\n",
        "datos_originales['review_title'].head(n=10)"
      ],
      "metadata": {
        "colab": {
          "base_uri": "https://localhost:8080/"
        },
        "id": "5EtKXCbcxhfb",
        "outputId": "6ea5e7a7-bc4b-4358-c2ff-7df7872c743a"
      },
      "execution_count": null,
      "outputs": [
        {
          "output_type": "execute_result",
          "data": {
            "text/plain": [
              "0                                     television Nevir\n",
              "1            Dinero tirado a la basura con esta compra\n",
              "2    solo llega una unidad cuando te obligan a comp...\n",
              "3                                PRODUCTO NO RECIBIDO.\n",
              "4                                             Devuelto\n",
              "5                                       Jamás me llegó\n",
              "6                                         Horroroso!!!\n",
              "7                                       Poco funcional\n",
              "8                                          No me llego\n",
              "9                             Mala calidad, defectuoso\n",
              "Name: review_title, dtype: object"
            ]
          },
          "metadata": {},
          "execution_count": 52
        }
      ]
    },
    {
      "cell_type": "code",
      "source": [
        "# Imprime sólo las últimas diez líneas dentro de la columna\n",
        "# 'review_title' del archivo cargado previamente.\n",
        "datos_originales['review_title'].tail(n=10)"
      ],
      "metadata": {
        "colab": {
          "base_uri": "https://localhost:8080/"
        },
        "id": "p_yTuElkx_Ii",
        "outputId": "470c9cb7-eda9-40a6-a8f3-86a134a5c849"
      },
      "execution_count": null,
      "outputs": [
        {
          "output_type": "execute_result",
          "data": {
            "text/plain": [
              "199990                     Julio\n",
              "199991               Muy cómodo!\n",
              "199992                  Muy bien\n",
              "199993          La droga +dura 2\n",
              "199994                    Precio\n",
              "199995    Tal y como se describe\n",
              "199996    Funciona perfectamente\n",
              "199997            Buena calidad.\n",
              "199998               Recomendado\n",
              "199999                 Preciosas\n",
              "Name: review_title, dtype: object"
            ]
          },
          "metadata": {},
          "execution_count": 19
        }
      ]
    },
    {
      "cell_type": "markdown",
      "source": [
        "# 2. Limpieza de los datos con ayuda de funciones "
      ],
      "metadata": {
        "id": "QrXIaT3HyXwS"
      }
    },
    {
      "cell_type": "code",
      "source": [
        "# Función que toma una variable con datos, y el nombre de la columna cuyo texto\n",
        "# queremos limpiar. La función regresa datos limpios.\n",
        "def limpia_texto(datos, columna):\n",
        "    # Quita todas las ocurrencias de \"http/S\".\n",
        "    datos[columna] = datos[columna].str.replace(r\"http\\S+\", \"\")\n",
        "    # Quita todas las ocurrencias de \"http\"\n",
        "    datos[columna] = datos[columna].str.replace(r\"http\", \"\")\n",
        "    # Quita todas las ocurrencias de \"@\".\n",
        "    datos[columna] = datos[columna].str.replace(r\"@\\S+\", \"\")\n",
        "    # Cambia todas las ocurrencias de \n",
        "    datos[columna] = datos[columna].str.replace(r\"[^A-Za-z0-9(),!?@\\'\\`\\\"\\_\\n]\", \" \")\n",
        "    # Reemplaza los \"@\" por \"at\".\n",
        "    datos[columna] = datos[columna].str.replace(r\"@\", \"at\")\n",
        "    # Pasa todo a minúsculas.\n",
        "    datos[columna] = datos[columna].str.lower()\n",
        "    return datos"
      ],
      "metadata": {
        "id": "kz32hWpSySX_"
      },
      "execution_count": null,
      "outputs": []
    },
    {
      "cell_type": "code",
      "source": [
        "# Creamos una variable que va a guardar el resultado de aplicar la\n",
        "# función limpia_texto a la columna \"review_title\" en los datos originales.\n",
        "resenas = limpia_texto(datos_originales, 'review_title')\n",
        "\n",
        "# Pasamos a formato \".csv\" los datos. Esto por conveniencia al usar pandas.\n",
        "resenas.to_csv(\"datos_limpios.csv\")\n",
        "\n",
        "# Imprime las primeras diez líneas dentro de la variable con datos limpios.\n",
        "resenas.head(n=10)"
      ],
      "metadata": {
        "colab": {
          "base_uri": "https://localhost:8080/",
          "height": 363
        },
        "id": "3nUrXHDtydaR",
        "outputId": "d5ece8d7-246c-4f9d-bca2-c08d9a8edb90"
      },
      "execution_count": null,
      "outputs": [
        {
          "output_type": "execute_result",
          "data": {
            "text/html": [
              "<div>\n",
              "<style scoped>\n",
              "    .dataframe tbody tr th:only-of-type {\n",
              "        vertical-align: middle;\n",
              "    }\n",
              "\n",
              "    .dataframe tbody tr th {\n",
              "        vertical-align: top;\n",
              "    }\n",
              "\n",
              "    .dataframe thead th {\n",
              "        text-align: right;\n",
              "    }\n",
              "</style>\n",
              "<table border=\"1\" class=\"dataframe\">\n",
              "  <thead>\n",
              "    <tr style=\"text-align: right;\">\n",
              "      <th></th>\n",
              "      <th>review_id</th>\n",
              "      <th>product_id</th>\n",
              "      <th>reviewer_id</th>\n",
              "      <th>stars</th>\n",
              "      <th>review_body</th>\n",
              "      <th>review_title</th>\n",
              "      <th>language</th>\n",
              "      <th>product_category</th>\n",
              "    </tr>\n",
              "  </thead>\n",
              "  <tbody>\n",
              "    <tr>\n",
              "      <th>0</th>\n",
              "      <td>es_0491108</td>\n",
              "      <td>product_es_0296024</td>\n",
              "      <td>reviewer_es_0999081</td>\n",
              "      <td>1</td>\n",
              "      <td>Nada bueno se me fue ka pantalla en menos de 8...</td>\n",
              "      <td>television nevir</td>\n",
              "      <td>es</td>\n",
              "      <td>electronics</td>\n",
              "    </tr>\n",
              "    <tr>\n",
              "      <th>1</th>\n",
              "      <td>es_0869872</td>\n",
              "      <td>product_es_0922286</td>\n",
              "      <td>reviewer_es_0216771</td>\n",
              "      <td>1</td>\n",
              "      <td>Horrible, nos tuvimos que comprar otro porque ...</td>\n",
              "      <td>dinero tirado a la basura con esta compra</td>\n",
              "      <td>es</td>\n",
              "      <td>electronics</td>\n",
              "    </tr>\n",
              "    <tr>\n",
              "      <th>2</th>\n",
              "      <td>es_0811721</td>\n",
              "      <td>product_es_0474543</td>\n",
              "      <td>reviewer_es_0929213</td>\n",
              "      <td>1</td>\n",
              "      <td>Te obligan a comprar dos unidades y te llega s...</td>\n",
              "      <td>solo llega una unidad cuando te obligan a comp...</td>\n",
              "      <td>es</td>\n",
              "      <td>drugstore</td>\n",
              "    </tr>\n",
              "    <tr>\n",
              "      <th>3</th>\n",
              "      <td>es_0359921</td>\n",
              "      <td>product_es_0656090</td>\n",
              "      <td>reviewer_es_0224702</td>\n",
              "      <td>1</td>\n",
              "      <td>No entro en descalificar al vendedor, solo pue...</td>\n",
              "      <td>producto no recibido</td>\n",
              "      <td>es</td>\n",
              "      <td>wireless</td>\n",
              "    </tr>\n",
              "    <tr>\n",
              "      <th>4</th>\n",
              "      <td>es_0068940</td>\n",
              "      <td>product_es_0662544</td>\n",
              "      <td>reviewer_es_0224827</td>\n",
              "      <td>1</td>\n",
              "      <td>Llega tarde y co la talla equivocada</td>\n",
              "      <td>devuelto</td>\n",
              "      <td>es</td>\n",
              "      <td>shoes</td>\n",
              "    </tr>\n",
              "    <tr>\n",
              "      <th>5</th>\n",
              "      <td>es_0779978</td>\n",
              "      <td>product_es_0103315</td>\n",
              "      <td>reviewer_es_0304973</td>\n",
              "      <td>1</td>\n",
              "      <td>Jamás me llegó y el vendedor nunca contacto co...</td>\n",
              "      <td>jam s me lleg</td>\n",
              "      <td>es</td>\n",
              "      <td>home</td>\n",
              "    </tr>\n",
              "    <tr>\n",
              "      <th>6</th>\n",
              "      <td>es_0591840</td>\n",
              "      <td>product_es_0880915</td>\n",
              "      <td>reviewer_es_0642702</td>\n",
              "      <td>1</td>\n",
              "      <td>El paraguas es de muy mala calidad,da la sensa...</td>\n",
              "      <td>horroroso!!!</td>\n",
              "      <td>es</td>\n",
              "      <td>luggage</td>\n",
              "    </tr>\n",
              "    <tr>\n",
              "      <th>7</th>\n",
              "      <td>es_0173297</td>\n",
              "      <td>product_es_0814677</td>\n",
              "      <td>reviewer_es_0895784</td>\n",
              "      <td>1</td>\n",
              "      <td>Tuve que devolverla porque al ser triangular n...</td>\n",
              "      <td>poco funcional</td>\n",
              "      <td>es</td>\n",
              "      <td>office_product</td>\n",
              "    </tr>\n",
              "    <tr>\n",
              "      <th>8</th>\n",
              "      <td>es_0101300</td>\n",
              "      <td>product_es_0654228</td>\n",
              "      <td>reviewer_es_0789283</td>\n",
              "      <td>1</td>\n",
              "      <td>Estoy esperando despues de protestar varias ve...</td>\n",
              "      <td>no me llego</td>\n",
              "      <td>es</td>\n",
              "      <td>electronics</td>\n",
              "    </tr>\n",
              "    <tr>\n",
              "      <th>9</th>\n",
              "      <td>es_0487007</td>\n",
              "      <td>product_es_0877793</td>\n",
              "      <td>reviewer_es_0986278</td>\n",
              "      <td>1</td>\n",
              "      <td>Defectuoso. En apariencia muy bien producto, p...</td>\n",
              "      <td>mala calidad, defectuoso</td>\n",
              "      <td>es</td>\n",
              "      <td>kitchen</td>\n",
              "    </tr>\n",
              "  </tbody>\n",
              "</table>\n",
              "</div>"
            ],
            "text/plain": [
              "    review_id          product_id  ... language  product_category\n",
              "0  es_0491108  product_es_0296024  ...       es       electronics\n",
              "1  es_0869872  product_es_0922286  ...       es       electronics\n",
              "2  es_0811721  product_es_0474543  ...       es         drugstore\n",
              "3  es_0359921  product_es_0656090  ...       es          wireless\n",
              "4  es_0068940  product_es_0662544  ...       es             shoes\n",
              "5  es_0779978  product_es_0103315  ...       es              home\n",
              "6  es_0591840  product_es_0880915  ...       es           luggage\n",
              "7  es_0173297  product_es_0814677  ...       es    office_product\n",
              "8  es_0101300  product_es_0654228  ...       es       electronics\n",
              "9  es_0487007  product_es_0877793  ...       es           kitchen\n",
              "\n",
              "[10 rows x 8 columns]"
            ]
          },
          "metadata": {},
          "execution_count": 54
        }
      ]
    },
    {
      "cell_type": "code",
      "source": [
        "# Graficamos los valores de la columna 'stars' de la\n",
        "# variable resenas. Esto con el fin de visualizar mejor su lo distribución.\n",
        "# Nos ayudamos de la librería matplotlib, que sirve para graficar en Python.\n",
        "import matplotlib.pyplot as plt\n",
        "\n",
        "datos = resenas['stars'].value_counts().plot(kind='bar')\n",
        "figura = datos.get_figure()\n",
        "\n",
        "plt.xlabel('Puntuación asignada')\n",
        "plt.ylabel('Frecuencia')\n",
        "plt.title('Puntuaciones en las reseñas')\n",
        "\n",
        "plt.show()"
      ],
      "metadata": {
        "id": "kYkjsktmf8O6",
        "colab": {
          "base_uri": "https://localhost:8080/",
          "height": 292
        },
        "outputId": "d9e4211d-96e6-4410-f83d-ecb5c1410b9f"
      },
      "execution_count": null,
      "outputs": [
        {
          "output_type": "display_data",
          "data": {
            "image/png": "[encoded data removed]",
            "text/plain": [
              "<Figure size 432x288 with 1 Axes>"
            ]
          },
          "metadata": {
            "needs_background": "light"
          }
        }
      ]
    },
    {
      "cell_type": "code",
      "source": [
        "# Usamos la función drop para quitar las columnas que no vamos a utilizar.\n",
        "# El término inplace=True le indica a pandas que estos cambios deben ser guardados.\n",
        "# Si no se especifica inplace=True, las columnas no se quitan definintivamente.\n",
        "# En este caso sí las borramos, pues no nos servirán para entrenar nuestro modelo.\n",
        "resenas.drop(['review_id', 'product_id', 'reviewer_id', 'language'], axis=1, inplace=True)\n",
        "\n",
        "# Imprime las primeras 5 filas en nuestra variable con datos.\n",
        "resenas.head()"
      ],
      "metadata": {
        "colab": {
          "base_uri": "https://localhost:8080/",
          "height": 206
        },
        "id": "Ap_7B0Dk0QSW",
        "outputId": "81784b04-7ff0-49b8-e520-edab8bd23b4d"
      },
      "execution_count": null,
      "outputs": [
        {
          "output_type": "execute_result",
          "data": {
            "text/html": [
              "<div>\n",
              "<style scoped>\n",
              "    .dataframe tbody tr th:only-of-type {\n",
              "        vertical-align: middle;\n",
              "    }\n",
              "\n",
              "    .dataframe tbody tr th {\n",
              "        vertical-align: top;\n",
              "    }\n",
              "\n",
              "    .dataframe thead th {\n",
              "        text-align: right;\n",
              "    }\n",
              "</style>\n",
              "<table border=\"1\" class=\"dataframe\">\n",
              "  <thead>\n",
              "    <tr style=\"text-align: right;\">\n",
              "      <th></th>\n",
              "      <th>stars</th>\n",
              "      <th>review_body</th>\n",
              "      <th>review_title</th>\n",
              "      <th>product_category</th>\n",
              "    </tr>\n",
              "  </thead>\n",
              "  <tbody>\n",
              "    <tr>\n",
              "      <th>0</th>\n",
              "      <td>1</td>\n",
              "      <td>Nada bueno se me fue ka pantalla en menos de 8...</td>\n",
              "      <td>television nevir</td>\n",
              "      <td>electronics</td>\n",
              "    </tr>\n",
              "    <tr>\n",
              "      <th>1</th>\n",
              "      <td>1</td>\n",
              "      <td>Horrible, nos tuvimos que comprar otro porque ...</td>\n",
              "      <td>dinero tirado a la basura con esta compra</td>\n",
              "      <td>electronics</td>\n",
              "    </tr>\n",
              "    <tr>\n",
              "      <th>2</th>\n",
              "      <td>1</td>\n",
              "      <td>Te obligan a comprar dos unidades y te llega s...</td>\n",
              "      <td>solo llega una unidad cuando te obligan a comp...</td>\n",
              "      <td>drugstore</td>\n",
              "    </tr>\n",
              "    <tr>\n",
              "      <th>3</th>\n",
              "      <td>1</td>\n",
              "      <td>No entro en descalificar al vendedor, solo pue...</td>\n",
              "      <td>producto no recibido</td>\n",
              "      <td>wireless</td>\n",
              "    </tr>\n",
              "    <tr>\n",
              "      <th>4</th>\n",
              "      <td>1</td>\n",
              "      <td>Llega tarde y co la talla equivocada</td>\n",
              "      <td>devuelto</td>\n",
              "      <td>shoes</td>\n",
              "    </tr>\n",
              "  </tbody>\n",
              "</table>\n",
              "</div>"
            ],
            "text/plain": [
              "   stars  ... product_category\n",
              "0      1  ...      electronics\n",
              "1      1  ...      electronics\n",
              "2      1  ...        drugstore\n",
              "3      1  ...         wireless\n",
              "4      1  ...            shoes\n",
              "\n",
              "[5 rows x 4 columns]"
            ]
          },
          "metadata": {},
          "execution_count": 56
        }
      ]
    },
    {
      "cell_type": "code",
      "source": [
        "# Imprime las dimensiones de los datos. Tenemos 200,000 filas y 4 columnas.\n",
        "resenas.shape"
      ],
      "metadata": {
        "colab": {
          "base_uri": "https://localhost:8080/"
        },
        "id": "ltNj2-Wb89Kb",
        "outputId": "beac7bd2-998d-4379-e7eb-09020d5f7fcf"
      },
      "execution_count": null,
      "outputs": [
        {
          "output_type": "execute_result",
          "data": {
            "text/plain": [
              "(200000, 4)"
            ]
          },
          "metadata": {},
          "execution_count": 24
        }
      ]
    },
    {
      "cell_type": "code",
      "source": [
        "# Usamos la función drop para quitar todas las reseñas después de la fila 5000.\n",
        "resenas.drop(resenas.index[5000:], inplace=True)"
      ],
      "metadata": {
        "id": "9qrDvCPX83i6"
      },
      "execution_count": null,
      "outputs": []
    },
    {
      "cell_type": "code",
      "source": [
        "# Revisamos la variable después de los cambios.\n",
        "resenas"
      ],
      "metadata": {
        "colab": {
          "base_uri": "https://localhost:8080/",
          "height": 424
        },
        "id": "o53xYMp296Mq",
        "outputId": "cba19fc2-f670-4228-a72b-703236e2a9cd"
      },
      "execution_count": null,
      "outputs": [
        {
          "output_type": "execute_result",
          "data": {
            "text/html": [
              "<div>\n",
              "<style scoped>\n",
              "    .dataframe tbody tr th:only-of-type {\n",
              "        vertical-align: middle;\n",
              "    }\n",
              "\n",
              "    .dataframe tbody tr th {\n",
              "        vertical-align: top;\n",
              "    }\n",
              "\n",
              "    .dataframe thead th {\n",
              "        text-align: right;\n",
              "    }\n",
              "</style>\n",
              "<table border=\"1\" class=\"dataframe\">\n",
              "  <thead>\n",
              "    <tr style=\"text-align: right;\">\n",
              "      <th></th>\n",
              "      <th>stars</th>\n",
              "      <th>review_body</th>\n",
              "      <th>review_title</th>\n",
              "      <th>product_category</th>\n",
              "    </tr>\n",
              "  </thead>\n",
              "  <tbody>\n",
              "    <tr>\n",
              "      <th>0</th>\n",
              "      <td>1</td>\n",
              "      <td>Nada bueno se me fue ka pantalla en menos de 8...</td>\n",
              "      <td>television nevir</td>\n",
              "      <td>electronics</td>\n",
              "    </tr>\n",
              "    <tr>\n",
              "      <th>1</th>\n",
              "      <td>1</td>\n",
              "      <td>Horrible, nos tuvimos que comprar otro porque ...</td>\n",
              "      <td>dinero tirado a la basura con esta compra</td>\n",
              "      <td>electronics</td>\n",
              "    </tr>\n",
              "    <tr>\n",
              "      <th>2</th>\n",
              "      <td>1</td>\n",
              "      <td>Te obligan a comprar dos unidades y te llega s...</td>\n",
              "      <td>solo llega una unidad cuando te obligan a comp...</td>\n",
              "      <td>drugstore</td>\n",
              "    </tr>\n",
              "    <tr>\n",
              "      <th>3</th>\n",
              "      <td>1</td>\n",
              "      <td>No entro en descalificar al vendedor, solo pue...</td>\n",
              "      <td>producto no recibido</td>\n",
              "      <td>wireless</td>\n",
              "    </tr>\n",
              "    <tr>\n",
              "      <th>4</th>\n",
              "      <td>1</td>\n",
              "      <td>Llega tarde y co la talla equivocada</td>\n",
              "      <td>devuelto</td>\n",
              "      <td>shoes</td>\n",
              "    </tr>\n",
              "    <tr>\n",
              "      <th>...</th>\n",
              "      <td>...</td>\n",
              "      <td>...</td>\n",
              "      <td>...</td>\n",
              "      <td>...</td>\n",
              "    </tr>\n",
              "    <tr>\n",
              "      <th>4995</th>\n",
              "      <td>1</td>\n",
              "      <td>El envió nefasto, no estaba en casa y me tirar...</td>\n",
              "      <td>emc</td>\n",
              "      <td>home</td>\n",
              "    </tr>\n",
              "    <tr>\n",
              "      <th>4996</th>\n",
              "      <td>1</td>\n",
              "      <td>La calidad es pésima, si fueran un poco peores...</td>\n",
              "      <td>no los recomiendo</td>\n",
              "      <td>other</td>\n",
              "    </tr>\n",
              "    <tr>\n",
              "      <th>4997</th>\n",
              "      <td>1</td>\n",
              "      <td>La maleta me gustó pero infelizmente se rompió...</td>\n",
              "      <td>bonita pero fr gil</td>\n",
              "      <td>luggage</td>\n",
              "    </tr>\n",
              "    <tr>\n",
              "      <th>4998</th>\n",
              "      <td>1</td>\n",
              "      <td>No me convence nada. No llega a cubrir toda la...</td>\n",
              "      <td>nagore</td>\n",
              "      <td>wireless</td>\n",
              "    </tr>\n",
              "    <tr>\n",
              "      <th>4999</th>\n",
              "      <td>1</td>\n",
              "      <td>Muy mala calidad un tubo no funciona y el otro...</td>\n",
              "      <td>mala calidad</td>\n",
              "      <td>home</td>\n",
              "    </tr>\n",
              "  </tbody>\n",
              "</table>\n",
              "<p>5000 rows × 4 columns</p>\n",
              "</div>"
            ],
            "text/plain": [
              "      stars  ... product_category\n",
              "0         1  ...      electronics\n",
              "1         1  ...      electronics\n",
              "2         1  ...        drugstore\n",
              "3         1  ...         wireless\n",
              "4         1  ...            shoes\n",
              "...     ...  ...              ...\n",
              "4995      1  ...             home\n",
              "4996      1  ...            other\n",
              "4997      1  ...          luggage\n",
              "4998      1  ...         wireless\n",
              "4999      1  ...             home\n",
              "\n",
              "[5000 rows x 4 columns]"
            ]
          },
          "metadata": {},
          "execution_count": 58
        }
      ]
    },
    {
      "cell_type": "markdown",
      "source": [
        "## 2. spaCy para análisis de las reseñas"
      ],
      "metadata": {
        "id": "D33pK9VMZ7pF"
      }
    },
    {
      "cell_type": "code",
      "source": [
        "# Bajamos a la notebook el modelo de spaCy pre-entrenado en español.\n",
        "# Esto nos permitirá hacer la extracción automática de tokens, entidades\n",
        "# nombradas, etc.\n",
        "! python -m spacy download es_core_news_sm"
      ],
      "metadata": {
        "id": "EjB7CFQCaKyI",
        "colab": {
          "base_uri": "https://localhost:8080/"
        },
        "outputId": "d62b07ec-a053-4de9-a8f4-c40cd9b93b88"
      },
      "execution_count": null,
      "outputs": [
        {
          "output_type": "stream",
          "name": "stdout",
          "text": [
            "Collecting es_core_news_sm==2.2.5\n",
            "  Downloading https://github.com/explosion/spacy-models/releases/download/es_core_news_sm-2.2.5/es_core_news_sm-2.2.5.tar.gz (16.2 MB)\n",
            "\u001b[K     |████████████████████████████████| 16.2 MB 5.2 MB/s \n",
            "\u001b[?25hRequirement already satisfied: spacy>=2.2.2 in /usr/local/lib/python3.7/dist-packages (from es_core_news_sm==2.2.5) (2.2.4)\n",
            "Requirement already satisfied: tqdm<5.0.0,>=4.38.0 in /usr/local/lib/python3.7/dist-packages (from spacy>=2.2.2->es_core_news_sm==2.2.5) (4.62.3)\n",
            "Requirement already satisfied: thinc==7.4.0 in /usr/local/lib/python3.7/dist-packages (from spacy>=2.2.2->es_core_news_sm==2.2.5) (7.4.0)\n",
            "Requirement already satisfied: srsly<1.1.0,>=1.0.2 in /usr/local/lib/python3.7/dist-packages (from spacy>=2.2.2->es_core_news_sm==2.2.5) (1.0.5)\n",
            "Requirement already satisfied: cymem<2.1.0,>=2.0.2 in /usr/local/lib/python3.7/dist-packages (from spacy>=2.2.2->es_core_news_sm==2.2.5) (2.0.6)\n",
            "Requirement already satisfied: plac<1.2.0,>=0.9.6 in /usr/local/lib/python3.7/dist-packages (from spacy>=2.2.2->es_core_news_sm==2.2.5) (1.1.3)\n",
            "Requirement already satisfied: setuptools in /usr/local/lib/python3.7/dist-packages (from spacy>=2.2.2->es_core_news_sm==2.2.5) (57.4.0)\n",
            "Requirement already satisfied: blis<0.5.0,>=0.4.0 in /usr/local/lib/python3.7/dist-packages (from spacy>=2.2.2->es_core_news_sm==2.2.5) (0.4.1)\n",
            "Requirement already satisfied: numpy>=1.15.0 in /usr/local/lib/python3.7/dist-packages (from spacy>=2.2.2->es_core_news_sm==2.2.5) (1.19.5)\n",
            "Requirement already satisfied: preshed<3.1.0,>=3.0.2 in /usr/local/lib/python3.7/dist-packages (from spacy>=2.2.2->es_core_news_sm==2.2.5) (3.0.6)\n",
            "Requirement already satisfied: requests<3.0.0,>=2.13.0 in /usr/local/lib/python3.7/dist-packages (from spacy>=2.2.2->es_core_news_sm==2.2.5) (2.23.0)\n",
            "Requirement already satisfied: wasabi<1.1.0,>=0.4.0 in /usr/local/lib/python3.7/dist-packages (from spacy>=2.2.2->es_core_news_sm==2.2.5) (0.8.2)\n",
            "Requirement already satisfied: murmurhash<1.1.0,>=0.28.0 in /usr/local/lib/python3.7/dist-packages (from spacy>=2.2.2->es_core_news_sm==2.2.5) (1.0.6)\n",
            "Requirement already satisfied: catalogue<1.1.0,>=0.0.7 in /usr/local/lib/python3.7/dist-packages (from spacy>=2.2.2->es_core_news_sm==2.2.5) (1.0.0)\n",
            "Requirement already satisfied: importlib-metadata>=0.20 in /usr/local/lib/python3.7/dist-packages (from catalogue<1.1.0,>=0.0.7->spacy>=2.2.2->es_core_news_sm==2.2.5) (4.8.2)\n",
            "Requirement already satisfied: typing-extensions>=3.6.4 in /usr/local/lib/python3.7/dist-packages (from importlib-metadata>=0.20->catalogue<1.1.0,>=0.0.7->spacy>=2.2.2->es_core_news_sm==2.2.5) (3.10.0.2)\n",
            "Requirement already satisfied: zipp>=0.5 in /usr/local/lib/python3.7/dist-packages (from importlib-metadata>=0.20->catalogue<1.1.0,>=0.0.7->spacy>=2.2.2->es_core_news_sm==2.2.5) (3.6.0)\n",
            "Requirement already satisfied: certifi>=2017.4.17 in /usr/local/lib/python3.7/dist-packages (from requests<3.0.0,>=2.13.0->spacy>=2.2.2->es_core_news_sm==2.2.5) (2021.10.8)\n",
            "Requirement already satisfied: idna<3,>=2.5 in /usr/local/lib/python3.7/dist-packages (from requests<3.0.0,>=2.13.0->spacy>=2.2.2->es_core_news_sm==2.2.5) (2.10)\n",
            "Requirement already satisfied: urllib3!=1.25.0,!=1.25.1,<1.26,>=1.21.1 in /usr/local/lib/python3.7/dist-packages (from requests<3.0.0,>=2.13.0->spacy>=2.2.2->es_core_news_sm==2.2.5) (1.24.3)\n",
            "Requirement already satisfied: chardet<4,>=3.0.2 in /usr/local/lib/python3.7/dist-packages (from requests<3.0.0,>=2.13.0->spacy>=2.2.2->es_core_news_sm==2.2.5) (3.0.4)\n",
            "\u001b[38;5;2m✔ Download and installation successful\u001b[0m\n",
            "You can now load the model via spacy.load('es_core_news_sm')\n"
          ]
        }
      ]
    },
    {
      "cell_type": "code",
      "source": [
        "# Cargamos el modelo de spaCy pre-entrenado en español.\n",
        "import spacy\n",
        "import es_core_news_sm\n",
        "\n",
        "nlp = es_core_news_sm.load()"
      ],
      "metadata": {
        "id": "uNv8H4ShZ-hh"
      },
      "execution_count": null,
      "outputs": []
    },
    {
      "cell_type": "code",
      "source": [
        "# La función type nos dice qué tipo de variable tenemos. En este caso, la columna\n",
        "# 'review_body' de la variable resenas contiene variables del tipo \"Series\".\n",
        "type(resenas['review_body'])"
      ],
      "metadata": {
        "colab": {
          "base_uri": "https://localhost:8080/"
        },
        "id": "I6yr89wb1OO6",
        "outputId": "a6b61de1-41e4-4983-b719-7fbe06dbdb98"
      },
      "execution_count": null,
      "outputs": [
        {
          "output_type": "execute_result",
          "data": {
            "text/plain": [
              "pandas.core.series.Series"
            ]
          },
          "metadata": {},
          "execution_count": 61
        }
      ]
    },
    {
      "cell_type": "code",
      "source": [
        "# Creamos un diccionario llamado \"columnas\" que contendrá los nombres de las \n",
        "# nuevas columnas, y listas vacías que llenaremos después con los tokens.\n",
        "columnas = {'Tokens de Reseñas': [],\n",
        "            'Tokens de Títulos': [], \n",
        "            'Tokens de categoria de productos': [],\n",
        "            'Puntuación': []}\n",
        "\n",
        "# Creamos una nueva variable llamada \"resenas_nlp\" que contendrá un pandas\n",
        "# DataFrame con las columnas especificadas en el diccionario anterior.\n",
        "resenas_nlp = pd.DataFrame(columnas)\n",
        "\n",
        "# Revisamos la nueva variable --el nuevo pandas DataFrame.\n",
        "resenas_nlp"
      ],
      "metadata": {
        "colab": {
          "base_uri": "https://localhost:8080/",
          "height": 49
        },
        "id": "arZG8w8x-dC3",
        "outputId": "e30b2fe2-499e-40be-98c8-204662f4d7a1"
      },
      "execution_count": null,
      "outputs": [
        {
          "output_type": "execute_result",
          "data": {
            "text/html": [
              "<div>\n",
              "<style scoped>\n",
              "    .dataframe tbody tr th:only-of-type {\n",
              "        vertical-align: middle;\n",
              "    }\n",
              "\n",
              "    .dataframe tbody tr th {\n",
              "        vertical-align: top;\n",
              "    }\n",
              "\n",
              "    .dataframe thead th {\n",
              "        text-align: right;\n",
              "    }\n",
              "</style>\n",
              "<table border=\"1\" class=\"dataframe\">\n",
              "  <thead>\n",
              "    <tr style=\"text-align: right;\">\n",
              "      <th></th>\n",
              "      <th>Tokens de Reseñas</th>\n",
              "      <th>Tokens de Títulos</th>\n",
              "      <th>Tokens de categoria de productos</th>\n",
              "      <th>Puntuación</th>\n",
              "    </tr>\n",
              "  </thead>\n",
              "  <tbody>\n",
              "  </tbody>\n",
              "</table>\n",
              "</div>"
            ],
            "text/plain": [
              "Empty DataFrame\n",
              "Columns: [Tokens de Reseñas, Tokens de Títulos, Tokens de categoria de productos, Puntuación]\n",
              "Index: []"
            ]
          },
          "metadata": {},
          "execution_count": 62
        }
      ]
    },
    {
      "cell_type": "code",
      "source": [
        "# Pasamos la columna 'review_body' de la variable 'resenas' por el modelo \n",
        "# nlp en español de spaCy que precargamos unas celdas arriba. Guardamos el\n",
        "# resultado en la columna \"Tokens de Reseñas\" dentro de la variable \"resenas_nlp\".\n",
        "resenas_nlp['Tokens de Reseñas'] = resenas['review_body'].apply(lambda x: nlp(x))"
      ],
      "metadata": {
        "id": "mqSE1n463Br5"
      },
      "execution_count": null,
      "outputs": []
    },
    {
      "cell_type": "code",
      "source": [
        "resenas_nlp.drop(['Puntuación'], axis=1, inplace=True)"
      ],
      "metadata": {
        "id": "8JTIW2shxV2N"
      },
      "execution_count": null,
      "outputs": []
    },
    {
      "cell_type": "code",
      "source": [
        "# Revisamos los cambios en el DataFrame \"resenas_nlp\"\n",
        "resenas_nlp"
      ],
      "metadata": {
        "id": "j2taw0If2Ql8",
        "colab": {
          "base_uri": "https://localhost:8080/",
          "height": 424
        },
        "outputId": "62d50517-43da-4826-cf73-592e30cbaae6"
      },
      "execution_count": null,
      "outputs": [
        {
          "output_type": "execute_result",
          "data": {
            "text/html": [
              "<div>\n",
              "<style scoped>\n",
              "    .dataframe tbody tr th:only-of-type {\n",
              "        vertical-align: middle;\n",
              "    }\n",
              "\n",
              "    .dataframe tbody tr th {\n",
              "        vertical-align: top;\n",
              "    }\n",
              "\n",
              "    .dataframe thead th {\n",
              "        text-align: right;\n",
              "    }\n",
              "</style>\n",
              "<table border=\"1\" class=\"dataframe\">\n",
              "  <thead>\n",
              "    <tr style=\"text-align: right;\">\n",
              "      <th></th>\n",
              "      <th>Tokens de Reseñas</th>\n",
              "      <th>Tokens de Títulos</th>\n",
              "      <th>Tokens de categoria de productos</th>\n",
              "    </tr>\n",
              "  </thead>\n",
              "  <tbody>\n",
              "    <tr>\n",
              "      <th>0</th>\n",
              "      <td>(Nada, bueno, se, me, fue, ka, pantalla, en, m...</td>\n",
              "      <td>(television, nevir)</td>\n",
              "      <td>(electronics)</td>\n",
              "    </tr>\n",
              "    <tr>\n",
              "      <th>1</th>\n",
              "      <td>(Horrible, ,, nos, tuvimos, que, comprar, otro...</td>\n",
              "      <td>(dinero, tirado, a, la, basura, con, esta, com...</td>\n",
              "      <td>(electronics)</td>\n",
              "    </tr>\n",
              "    <tr>\n",
              "      <th>2</th>\n",
              "      <td>(Te, obligan, a, comprar, dos, unidades, y, te...</td>\n",
              "      <td>(solo, llega, una, unidad, cuando, te, obligan...</td>\n",
              "      <td>(drugstore)</td>\n",
              "    </tr>\n",
              "    <tr>\n",
              "      <th>3</th>\n",
              "      <td>(No, entro, en, descalificar, al, vendedor, ,,...</td>\n",
              "      <td>(producto, no, recibido)</td>\n",
              "      <td>(wireless)</td>\n",
              "    </tr>\n",
              "    <tr>\n",
              "      <th>4</th>\n",
              "      <td>(Llega, tarde, y, co, la, talla, equivocada)</td>\n",
              "      <td>(devuelto)</td>\n",
              "      <td>(shoes)</td>\n",
              "    </tr>\n",
              "    <tr>\n",
              "      <th>...</th>\n",
              "      <td>...</td>\n",
              "      <td>...</td>\n",
              "      <td>...</td>\n",
              "    </tr>\n",
              "    <tr>\n",
              "      <th>4995</th>\n",
              "      <td>(El, envió, nefasto, ,, no, estaba, en, casa, ...</td>\n",
              "      <td>(emc)</td>\n",
              "      <td>(home)</td>\n",
              "    </tr>\n",
              "    <tr>\n",
              "      <th>4996</th>\n",
              "      <td>(La, calidad, es, pésima, ,, si, fueran, un, p...</td>\n",
              "      <td>(no, los, recomiendo)</td>\n",
              "      <td>(other)</td>\n",
              "    </tr>\n",
              "    <tr>\n",
              "      <th>4997</th>\n",
              "      <td>(La, maleta, me, gustó, pero, infelizmente, se...</td>\n",
              "      <td>(bonita, pero, fr, gil)</td>\n",
              "      <td>(luggage)</td>\n",
              "    </tr>\n",
              "    <tr>\n",
              "      <th>4998</th>\n",
              "      <td>(No, me, convence, nada, ., No, llega, a, cubr...</td>\n",
              "      <td>(nagore)</td>\n",
              "      <td>(wireless)</td>\n",
              "    </tr>\n",
              "    <tr>\n",
              "      <th>4999</th>\n",
              "      <td>(Muy, mala, calidad, un, tubo, no, funciona, y...</td>\n",
              "      <td>(mala, calidad)</td>\n",
              "      <td>(home)</td>\n",
              "    </tr>\n",
              "  </tbody>\n",
              "</table>\n",
              "<p>5000 rows × 3 columns</p>\n",
              "</div>"
            ],
            "text/plain": [
              "                                      Tokens de Reseñas  ... Tokens de categoria de productos\n",
              "0     (Nada, bueno, se, me, fue, ka, pantalla, en, m...  ...                    (electronics)\n",
              "1     (Horrible, ,, nos, tuvimos, que, comprar, otro...  ...                    (electronics)\n",
              "2     (Te, obligan, a, comprar, dos, unidades, y, te...  ...                      (drugstore)\n",
              "3     (No, entro, en, descalificar, al, vendedor, ,,...  ...                       (wireless)\n",
              "4          (Llega, tarde, y, co, la, talla, equivocada)  ...                          (shoes)\n",
              "...                                                 ...  ...                              ...\n",
              "4995  (El, envió, nefasto, ,, no, estaba, en, casa, ...  ...                           (home)\n",
              "4996  (La, calidad, es, pésima, ,, si, fueran, un, p...  ...                          (other)\n",
              "4997  (La, maleta, me, gustó, pero, infelizmente, se...  ...                        (luggage)\n",
              "4998  (No, me, convence, nada, ., No, llega, a, cubr...  ...                       (wireless)\n",
              "4999  (Muy, mala, calidad, un, tubo, no, funciona, y...  ...                           (home)\n",
              "\n",
              "[5000 rows x 3 columns]"
            ]
          },
          "metadata": {},
          "execution_count": 69
        }
      ]
    },
    {
      "cell_type": "code",
      "source": [
        "# Repetimos el proceso anterior pero para la columna 'review_title'.\n",
        "resenas_nlp['Tokens de Títulos'] = resenas['review_title'].apply(lambda x: nlp(x))"
      ],
      "metadata": {
        "id": "nEK3hVkx2YAb"
      },
      "execution_count": null,
      "outputs": []
    },
    {
      "cell_type": "code",
      "source": [
        "# Repetimos el proceso anterior pero para la columna 'product_category'.\n",
        "resenas_nlp['Tokens de categoria de productos'] = resenas['product_category'].apply(lambda x: nlp(x))"
      ],
      "metadata": {
        "id": "AeOrCvk62KMj"
      },
      "execution_count": null,
      "outputs": []
    },
    {
      "cell_type": "code",
      "source": [
        "# Finalmente, tenenos un pandas DataFrame con tokens de las reseñas, los títulos\n",
        "# de las reseñas, los tokens de categorías de productos, y las puntuaciones\n",
        "# de cada reseña, en la variable \"resenas_nlp\".\n",
        "resenas_nlp"
      ],
      "metadata": {
        "id": "kyCLrg2U_ygM",
        "colab": {
          "base_uri": "https://localhost:8080/",
          "height": 424
        },
        "outputId": "01597738-3c9c-4e18-a67f-7a4343675773"
      },
      "execution_count": null,
      "outputs": [
        {
          "output_type": "execute_result",
          "data": {
            "text/html": [
              "<div>\n",
              "<style scoped>\n",
              "    .dataframe tbody tr th:only-of-type {\n",
              "        vertical-align: middle;\n",
              "    }\n",
              "\n",
              "    .dataframe tbody tr th {\n",
              "        vertical-align: top;\n",
              "    }\n",
              "\n",
              "    .dataframe thead th {\n",
              "        text-align: right;\n",
              "    }\n",
              "</style>\n",
              "<table border=\"1\" class=\"dataframe\">\n",
              "  <thead>\n",
              "    <tr style=\"text-align: right;\">\n",
              "      <th></th>\n",
              "      <th>Tokens de Reseñas</th>\n",
              "      <th>Tokens de Títulos</th>\n",
              "      <th>Tokens de categoria de productos</th>\n",
              "    </tr>\n",
              "  </thead>\n",
              "  <tbody>\n",
              "    <tr>\n",
              "      <th>0</th>\n",
              "      <td>(Nada, bueno, se, me, fue, ka, pantalla, en, m...</td>\n",
              "      <td>(television, nevir)</td>\n",
              "      <td>(electronics)</td>\n",
              "    </tr>\n",
              "    <tr>\n",
              "      <th>1</th>\n",
              "      <td>(Horrible, ,, nos, tuvimos, que, comprar, otro...</td>\n",
              "      <td>(dinero, tirado, a, la, basura, con, esta, com...</td>\n",
              "      <td>(electronics)</td>\n",
              "    </tr>\n",
              "    <tr>\n",
              "      <th>2</th>\n",
              "      <td>(Te, obligan, a, comprar, dos, unidades, y, te...</td>\n",
              "      <td>(solo, llega, una, unidad, cuando, te, obligan...</td>\n",
              "      <td>(drugstore)</td>\n",
              "    </tr>\n",
              "    <tr>\n",
              "      <th>3</th>\n",
              "      <td>(No, entro, en, descalificar, al, vendedor, ,,...</td>\n",
              "      <td>(producto, no, recibido)</td>\n",
              "      <td>(wireless)</td>\n",
              "    </tr>\n",
              "    <tr>\n",
              "      <th>4</th>\n",
              "      <td>(Llega, tarde, y, co, la, talla, equivocada)</td>\n",
              "      <td>(devuelto)</td>\n",
              "      <td>(shoes)</td>\n",
              "    </tr>\n",
              "    <tr>\n",
              "      <th>...</th>\n",
              "      <td>...</td>\n",
              "      <td>...</td>\n",
              "      <td>...</td>\n",
              "    </tr>\n",
              "    <tr>\n",
              "      <th>4995</th>\n",
              "      <td>(El, envió, nefasto, ,, no, estaba, en, casa, ...</td>\n",
              "      <td>(emc)</td>\n",
              "      <td>(home)</td>\n",
              "    </tr>\n",
              "    <tr>\n",
              "      <th>4996</th>\n",
              "      <td>(La, calidad, es, pésima, ,, si, fueran, un, p...</td>\n",
              "      <td>(no, los, recomiendo)</td>\n",
              "      <td>(other)</td>\n",
              "    </tr>\n",
              "    <tr>\n",
              "      <th>4997</th>\n",
              "      <td>(La, maleta, me, gustó, pero, infelizmente, se...</td>\n",
              "      <td>(bonita, pero, fr, gil)</td>\n",
              "      <td>(luggage)</td>\n",
              "    </tr>\n",
              "    <tr>\n",
              "      <th>4998</th>\n",
              "      <td>(No, me, convence, nada, ., No, llega, a, cubr...</td>\n",
              "      <td>(nagore)</td>\n",
              "      <td>(wireless)</td>\n",
              "    </tr>\n",
              "    <tr>\n",
              "      <th>4999</th>\n",
              "      <td>(Muy, mala, calidad, un, tubo, no, funciona, y...</td>\n",
              "      <td>(mala, calidad)</td>\n",
              "      <td>(home)</td>\n",
              "    </tr>\n",
              "  </tbody>\n",
              "</table>\n",
              "<p>5000 rows × 3 columns</p>\n",
              "</div>"
            ],
            "text/plain": [
              "                                      Tokens de Reseñas  ... Tokens de categoria de productos\n",
              "0     (Nada, bueno, se, me, fue, ka, pantalla, en, m...  ...                    (electronics)\n",
              "1     (Horrible, ,, nos, tuvimos, que, comprar, otro...  ...                    (electronics)\n",
              "2     (Te, obligan, a, comprar, dos, unidades, y, te...  ...                      (drugstore)\n",
              "3     (No, entro, en, descalificar, al, vendedor, ,,...  ...                       (wireless)\n",
              "4          (Llega, tarde, y, co, la, talla, equivocada)  ...                          (shoes)\n",
              "...                                                 ...  ...                              ...\n",
              "4995  (El, envió, nefasto, ,, no, estaba, en, casa, ...  ...                           (home)\n",
              "4996  (La, calidad, es, pésima, ,, si, fueran, un, p...  ...                          (other)\n",
              "4997  (La, maleta, me, gustó, pero, infelizmente, se...  ...                        (luggage)\n",
              "4998  (No, me, convence, nada, ., No, llega, a, cubr...  ...                       (wireless)\n",
              "4999  (Muy, mala, calidad, un, tubo, no, funciona, y...  ...                           (home)\n",
              "\n",
              "[5000 rows x 3 columns]"
            ]
          },
          "metadata": {},
          "execution_count": 70
        }
      ]
    },
    {
      "cell_type": "markdown",
      "source": [
        "# 3. Exploración de características lingüísticas"
      ],
      "metadata": {
        "id": "f9k3AIUmAqCf"
      }
    },
    {
      "cell_type": "code",
      "source": [
        "# Inspeccionamos el contenido de la fila 0 y la columna 'Tokens de Reseñas'\n",
        "# de la variable resenas_nlp.\n",
        "resenas_nlp['Tokens de Reseñas'][2000]"
      ],
      "metadata": {
        "colab": {
          "base_uri": "https://localhost:8080/"
        },
        "id": "zEkPj_e1A626",
        "outputId": "24d42de9-2a60-46f9-cd82-caaa1a7601f7"
      },
      "execution_count": null,
      "outputs": [
        {
          "output_type": "execute_result",
          "data": {
            "text/plain": [
              "El envío y la presentación del producto, así como los accesorios todo correcto. La colocación del cristal protector se realiza sin problemas, pero sólo lleva algo de pega por los bordes y la fijación no es buena, y acaba moviéndose, adicionalmente pierde la sensibilidad del teclado táctil, por lo que hay que presionar con fuerza, especialmente en los bordes."
            ]
          },
          "metadata": {},
          "execution_count": 71
        }
      ]
    },
    {
      "cell_type": "code",
      "source": [
        "# Saca las oraciones segmentadas de una reseña en particular.\n",
        "sentence_spans = list(resenas_nlp['Tokens de Reseñas'][2000].sents)\n",
        "sentence_spans"
      ],
      "metadata": {
        "colab": {
          "base_uri": "https://localhost:8080/"
        },
        "id": "0NLQpkVcHdrN",
        "outputId": "4ca684da-050d-4648-c787-ffc0022ab87d"
      },
      "execution_count": null,
      "outputs": [
        {
          "output_type": "execute_result",
          "data": {
            "text/plain": [
              "[El envío y la presentación del producto, así como los accesorios todo correcto.,\n",
              " La colocación del cristal protector se realiza sin problemas, pero sólo lleva algo de pega por los bordes y la fijación no es buena, y acaba moviéndose, adicionalmente pierde la sensibilidad del teclado táctil, por lo que hay que presionar con fuerza, especialmente en los bordes.]"
            ]
          },
          "metadata": {},
          "execution_count": 72
        }
      ]
    },
    {
      "cell_type": "code",
      "source": [
        "# Inspeccionamos las tokens de la fila 0 y la columna 'Tokens de Reseñas'\n",
        "# de la variable resenas_nlp.\n",
        "for token in resenas_nlp['Tokens de Reseñas'][0]:\n",
        "  print(token.text, token.pos_, spacy.explain(token.pos_))"
      ],
      "metadata": {
        "colab": {
          "base_uri": "https://localhost:8080/"
        },
        "id": "1paB-CMBDhbv",
        "outputId": "667d045b-2d74-451e-9b16-b6740a72831f"
      },
      "execution_count": null,
      "outputs": [
        {
          "output_type": "stream",
          "name": "stdout",
          "text": [
            "Nada PRON pronoun\n",
            "bueno ADJ adjective\n",
            "se PRON pronoun\n",
            "me PRON pronoun\n",
            "fue AUX auxiliary\n",
            "ka ADV adverb\n",
            "pantalla NOUN noun\n",
            "en ADP adposition\n",
            "menos ADV adverb\n",
            "de ADP adposition\n",
            "8 NUM numeral\n",
            "meses NOUN noun\n",
            "y CONJ conjunction\n",
            "no ADV adverb\n",
            "he AUX auxiliary\n",
            "recibido VERB verb\n",
            "respuesta NOUN noun\n",
            "del ADP adposition\n",
            "fabricante NOUN noun\n"
          ]
        }
      ]
    },
    {
      "cell_type": "code",
      "source": [
        "# Inspeccionamos las tokens de la fila 0 y la columna 'Tokens de Reseñas'\n",
        "# de la variable resenas_nlp.\n",
        "for token in resenas_nlp['Tokens de Reseñas'][0]:\n",
        "  print(token.text, token.pos_, token.tag_)"
      ],
      "metadata": {
        "colab": {
          "base_uri": "https://localhost:8080/"
        },
        "id": "GyQLbqk6FAzS",
        "outputId": "599a34a8-76a6-439d-b319-92ff1e1b50db"
      },
      "execution_count": null,
      "outputs": [
        {
          "output_type": "stream",
          "name": "stdout",
          "text": [
            "Nada PRON PRON__Number=Sing|PronType=Ind\n",
            "bueno ADJ ADJ__Gender=Masc|Number=Sing\n",
            "se PRON PRON__Person=3\n",
            "me PRON PRON__Number=Sing|Person=1|PronType=Prs\n",
            "fue AUX AUX__Mood=Ind|Number=Sing|Person=3|Tense=Past|VerbForm=Fin\n",
            "ka ADV ADV__Polarity=Neg\n",
            "pantalla NOUN NOUN__Gender=Fem|Number=Sing\n",
            "en ADP ADP__AdpType=Prep\n",
            "menos ADV ADV___\n",
            "de ADP ADP__AdpType=Prep\n",
            "8 NUM NUM__NumForm=Digit\n",
            "meses NOUN NOUN__Gender=Masc|Number=Plur\n",
            "y CONJ CCONJ___\n",
            "no ADV ADV__Polarity=Neg\n",
            "he AUX AUX__Mood=Ind|Number=Sing|Person=1|Tense=Pres|VerbForm=Fin\n",
            "recibido VERB VERB__Gender=Masc|Number=Sing|Tense=Past|VerbForm=Part\n",
            "respuesta NOUN NOUN__Gender=Fem|Number=Sing\n",
            "del ADP ADP__AdpType=Preppron|Gender=Masc|Number=Sing\n",
            "fabricante NOUN NOUN__Number=Sing\n"
          ]
        }
      ]
    },
    {
      "cell_type": "code",
      "source": [
        "# Inspeccionamos las tokens de la fila 0 y la columna 'Tokens de Reseñas'\n",
        "# de la variable resenas_nlp.\n",
        "for token in resenas_nlp['Tokens de Reseñas'][0]:\n",
        "  print(token.text, token.is_alpha, token.is_stop, token.is_punct)"
      ],
      "metadata": {
        "colab": {
          "base_uri": "https://localhost:8080/"
        },
        "id": "ISa9hUxTFqN-",
        "outputId": "d7bc0dcd-8f8b-4a0c-c8fa-0d3096fd0e82"
      },
      "execution_count": null,
      "outputs": [
        {
          "output_type": "stream",
          "name": "stdout",
          "text": [
            "Nada True True False\n",
            "bueno True True False\n",
            "se True True False\n",
            "me True True False\n",
            "fue True True False\n",
            "ka True False False\n",
            "pantalla True False False\n",
            "en True True False\n",
            "menos True True False\n",
            "de True True False\n",
            "8 False False False\n",
            "meses True False False\n",
            "y True False False\n",
            "no True True False\n",
            "he True True False\n",
            "recibido True False False\n",
            "respuesta True False False\n",
            "del True True False\n",
            "fabricante True False False\n"
          ]
        }
      ]
    },
    {
      "cell_type": "code",
      "source": [
        "# Importamos displacy para visualizar cómo spaCy está haciendo el análisis.\n",
        "from spacy import displacy\n",
        "displacy.render(resenas_nlp['Tokens de Reseñas'][10], style='dep', jupyter=True)"
      ],
      "metadata": {
        "id": "8H7XaatIGlAV"
      },
      "execution_count": null,
      "outputs": []
    },
    {
      "cell_type": "code",
      "source": [
        "# De nuevo, definimos un diccionario con los nombres de las columnas de un nuevo\n",
        "# DataFrame que utilizaremos. El nuevo DataFrame contendrá tokens clasificados\n",
        "# de acuerdo a la información sintáctica que contengan.\n",
        "cols = {'Texto': [],\n",
        "        'Parte del discurso': [],\n",
        "        '¿Es token alfanumérico ?': [],\n",
        "        '¿Es token de puntuación ?': [],\n",
        "        '¿Es palabra de alto (stop-word) ?': []}\n",
        "\n",
        "# Sacamos los tokens de la columna 'Tokens de Reseñas' y los guardamos en el \n",
        "# diccionario de recién creación. Específicamente, en la lista con la llave\n",
        "# nombrada \"Texto\".\n",
        "for i in range(len(resenas_nlp['Tokens de Reseñas'])):\n",
        "  for token in resenas_nlp['Tokens de Reseñas'][i]:\n",
        "    cols['Texto'].append(token.text)"
      ],
      "metadata": {
        "id": "pUBJ3_t9P76K"
      },
      "execution_count": null,
      "outputs": []
    },
    {
      "cell_type": "code",
      "source": [
        "# Revisamos el diccionario después de los tokens que le agregamos a la columna\n",
        "# \"Texto\".\n",
        "cols"
      ],
      "metadata": {
        "id": "bUem8YcxRM4U"
      },
      "execution_count": null,
      "outputs": []
    },
    {
      "cell_type": "code",
      "source": [
        "# Repetimos el mismo proceso de arriba, pero ahora sacamos diferentes tokens\n",
        "# de las columnas de la variable resenas_nlp, y los vamos guardando en los\n",
        "# campos vacíos del diccionario.\n",
        "for i in range(len(resenas_nlp['Tokens de Reseñas'])):\n",
        "  for token in resenas_nlp['Tokens de Reseñas'][i]:\n",
        "    cols['Parte del discurso'].append(token.pos_)\n",
        "    cols['¿Es token alfanumérico ?'].append(token.is_alpha)\n",
        "    cols['¿Es token de puntuación ?'].append(token.is_punct)\n",
        "    cols['¿Es palabra de alto (stop-word) ?'].append(token.is_stop)"
      ],
      "metadata": {
        "id": "kEDZ5F2zRSsX"
      },
      "execution_count": null,
      "outputs": []
    },
    {
      "cell_type": "code",
      "source": [
        "# Pasamos el diccionario \"cols\" a un pandas DataFrame. Nos ayudamos de\n",
        "# la función \"DataFrame\" de pandas.\n",
        "caracteristicas_linguisticas = pd.DataFrame(cols)"
      ],
      "metadata": {
        "id": "uV-9ulg-Qy2E"
      },
      "execution_count": null,
      "outputs": []
    },
    {
      "cell_type": "code",
      "source": [
        "# Revisamos nuestra variable \"caracteristicas_linguisticas\" que contiene\n",
        "# al nuevo DataFrame con tokens de diversos tipos separados por columnas.\n",
        "caracteristicas_linguisticas"
      ],
      "metadata": {
        "colab": {
          "base_uri": "https://localhost:8080/",
          "height": 424
        },
        "id": "fuJY-Zo_RnMp",
        "outputId": "84c3baec-8260-4ad8-cfac-45a58adedf03"
      },
      "execution_count": null,
      "outputs": [
        {
          "output_type": "execute_result",
          "data": {
            "text/html": [
              "<div>\n",
              "<style scoped>\n",
              "    .dataframe tbody tr th:only-of-type {\n",
              "        vertical-align: middle;\n",
              "    }\n",
              "\n",
              "    .dataframe tbody tr th {\n",
              "        vertical-align: top;\n",
              "    }\n",
              "\n",
              "    .dataframe thead th {\n",
              "        text-align: right;\n",
              "    }\n",
              "</style>\n",
              "<table border=\"1\" class=\"dataframe\">\n",
              "  <thead>\n",
              "    <tr style=\"text-align: right;\">\n",
              "      <th></th>\n",
              "      <th>Texto</th>\n",
              "      <th>Parte del discurso</th>\n",
              "      <th>¿Es token alfanumérico ?</th>\n",
              "      <th>¿Es token de puntuación ?</th>\n",
              "      <th>¿Es palabra de alto (stop-word) ?</th>\n",
              "    </tr>\n",
              "  </thead>\n",
              "  <tbody>\n",
              "    <tr>\n",
              "      <th>0</th>\n",
              "      <td>Nada</td>\n",
              "      <td>PRON</td>\n",
              "      <td>True</td>\n",
              "      <td>False</td>\n",
              "      <td>True</td>\n",
              "    </tr>\n",
              "    <tr>\n",
              "      <th>1</th>\n",
              "      <td>bueno</td>\n",
              "      <td>ADJ</td>\n",
              "      <td>True</td>\n",
              "      <td>False</td>\n",
              "      <td>True</td>\n",
              "    </tr>\n",
              "    <tr>\n",
              "      <th>2</th>\n",
              "      <td>se</td>\n",
              "      <td>PRON</td>\n",
              "      <td>True</td>\n",
              "      <td>False</td>\n",
              "      <td>True</td>\n",
              "    </tr>\n",
              "    <tr>\n",
              "      <th>3</th>\n",
              "      <td>me</td>\n",
              "      <td>PRON</td>\n",
              "      <td>True</td>\n",
              "      <td>False</td>\n",
              "      <td>True</td>\n",
              "    </tr>\n",
              "    <tr>\n",
              "      <th>4</th>\n",
              "      <td>fue</td>\n",
              "      <td>AUX</td>\n",
              "      <td>True</td>\n",
              "      <td>False</td>\n",
              "      <td>True</td>\n",
              "    </tr>\n",
              "    <tr>\n",
              "      <th>...</th>\n",
              "      <td>...</td>\n",
              "      <td>...</td>\n",
              "      <td>...</td>\n",
              "      <td>...</td>\n",
              "      <td>...</td>\n",
              "    </tr>\n",
              "    <tr>\n",
              "      <th>158158</th>\n",
              "      <td>a</td>\n",
              "      <td>ADP</td>\n",
              "      <td>True</td>\n",
              "      <td>False</td>\n",
              "      <td>False</td>\n",
              "    </tr>\n",
              "    <tr>\n",
              "      <th>158159</th>\n",
              "      <td>las</td>\n",
              "      <td>DET</td>\n",
              "      <td>True</td>\n",
              "      <td>False</td>\n",
              "      <td>True</td>\n",
              "    </tr>\n",
              "    <tr>\n",
              "      <th>158160</th>\n",
              "      <td>2</td>\n",
              "      <td>NUM</td>\n",
              "      <td>False</td>\n",
              "      <td>False</td>\n",
              "      <td>False</td>\n",
              "    </tr>\n",
              "    <tr>\n",
              "      <th>158161</th>\n",
              "      <td>horas</td>\n",
              "      <td>NOUN</td>\n",
              "      <td>True</td>\n",
              "      <td>False</td>\n",
              "      <td>True</td>\n",
              "    </tr>\n",
              "    <tr>\n",
              "      <th>158162</th>\n",
              "      <td>.</td>\n",
              "      <td>PUNCT</td>\n",
              "      <td>False</td>\n",
              "      <td>True</td>\n",
              "      <td>False</td>\n",
              "    </tr>\n",
              "  </tbody>\n",
              "</table>\n",
              "<p>158163 rows × 5 columns</p>\n",
              "</div>"
            ],
            "text/plain": [
              "        Texto  ... ¿Es palabra de alto (stop-word) ?\n",
              "0        Nada  ...                              True\n",
              "1       bueno  ...                              True\n",
              "2          se  ...                              True\n",
              "3          me  ...                              True\n",
              "4         fue  ...                              True\n",
              "...       ...  ...                               ...\n",
              "158158      a  ...                             False\n",
              "158159    las  ...                              True\n",
              "158160      2  ...                             False\n",
              "158161  horas  ...                              True\n",
              "158162      .  ...                             False\n",
              "\n",
              "[158163 rows x 5 columns]"
            ]
          },
          "metadata": {},
          "execution_count": 91
        }
      ]
    },
    {
      "cell_type": "code",
      "source": [
        "# Revisamos cuáles son los contenidos de la columna 'Parte del discurso' de la\n",
        "# variable caracteristicas_linguisticas. La función value_counts nos da \n",
        "# la cuenta de las veces que aparece un string único dentro de la columna especificada.\n",
        "caracteristicas_linguisticas['Parte del discurso'].value_counts()"
      ],
      "metadata": {
        "colab": {
          "base_uri": "https://localhost:8080/"
        },
        "id": "RaFhjBEDR2oo",
        "outputId": "98a8e8c1-8480-477d-d58b-2679115ee384"
      },
      "execution_count": null,
      "outputs": [
        {
          "output_type": "execute_result",
          "data": {
            "text/plain": [
              "NOUN     25300\n",
              "VERB     19794\n",
              "DET      17951\n",
              "ADP      16687\n",
              "PUNCT    15123\n",
              "ADV      13857\n",
              "PRON     12703\n",
              "AUX       9076\n",
              "ADJ       9053\n",
              "CONJ      6936\n",
              "SCONJ     5230\n",
              "PROPN     4047\n",
              "NUM       2297\n",
              "SYM         51\n",
              "INTJ        37\n",
              "PART        21\n",
              "Name: Parte del discurso, dtype: int64"
            ]
          },
          "metadata": {},
          "execution_count": 94
        }
      ]
    },
    {
      "cell_type": "code",
      "source": [
        "# Graficamos los valores de la columna 'Parte del discurso' de la\n",
        "# variable caracteristicas_linguisticas. Esto con el fin de visualizar\n",
        "# lo que en la celda anterior obtuvimos. Nos ayudamos de la librería\n",
        "# matplotlib, que sirve para graficar en Python.\n",
        "import matplotlib.pyplot as plt\n",
        "\n",
        "# Definimos a los datos de la figura, y el tipo de figura que queremos.\n",
        "datos = caracteristicas_linguisticas['Parte del discurso'].value_counts().plot(kind='bar')\n",
        "# Obtenemos la figura con ayuda de la función get_figure de matplotlib.\n",
        "figura = datos.get_figure()\n",
        "\n",
        "# La función xlabel nos permite nombrar al eje x en nuestro gráfico.\n",
        "plt.xlabel('Parte del discurso')\n",
        "# La función ylabel nos permite nombrar al eje y en nuestro gráfico.\n",
        "plt.ylabel('Número de aparición')\n",
        "# La función title nos permite nombrar al título de nuestro gráfico.\n",
        "plt.title('Número de apariciones de todas las partes del discurso de las reseñas')\n",
        "# La función show nos despliega en pantalla el gráfico con todas las\n",
        "# características especificadas anteriormente.\n",
        "plt.show()"
      ],
      "metadata": {
        "colab": {
          "base_uri": "https://localhost:8080/",
          "height": 319
        },
        "id": "veKXs4OnSEjt",
        "outputId": "39d201cd-afc4-4632-c49f-a4ce70e64676"
      },
      "execution_count": null,
      "outputs": [
        {
          "output_type": "display_data",
          "data": {
            "image/png": "[encoded data removed]",
            "text/plain": [
              "<Figure size 432x288 with 1 Axes>"
            ]
          },
          "metadata": {
            "needs_background": "light"
          }
        }
      ]
    },
    {
      "cell_type": "code",
      "source": [
        "# Repetimos el mismo proceso pero ahora para los tokens de la columna '¿Es token de puntuación ?'.\n",
        "datos = caracteristicas_linguisticas['¿Es token de puntuación ?'].value_counts().plot(kind='bar')\n",
        "figura = datos.get_figure()\n",
        "\n",
        "plt.xlabel('¿Es token de puntuación ?')\n",
        "plt.ylabel('Número de aparición')\n",
        "plt.title('Tokens de signos de puntuación en las reseñas')\n",
        "\n",
        "plt.show()"
      ],
      "metadata": {
        "colab": {
          "base_uri": "https://localhost:8080/",
          "height": 311
        },
        "id": "4Q7n5i1TUsjh",
        "outputId": "89b2d3d6-6684-48e5-93d6-e18f72d502f8"
      },
      "execution_count": null,
      "outputs": [
        {
          "output_type": "display_data",
          "data": {
            "image/png": "[encoded data removed]",
            "text/plain": [
              "<Figure size 432x288 with 1 Axes>"
            ]
          },
          "metadata": {
            "needs_background": "light"
          }
        }
      ]
    },
    {
      "cell_type": "code",
      "source": [
        "# Repetimos el mismo proceso pero ahora para los tokens de la columna '¿Es token alfanumérico ?'.\n",
        "datos = caracteristicas_linguisticas['¿Es token alfanumérico ?'].value_counts().plot(kind='bar')\n",
        "figura = datos.get_figure()\n",
        "\n",
        "plt.xlabel('¿Es token alfanumérico ?')\n",
        "plt.ylabel('Número de aparición')\n",
        "plt.title('Tokens alfanuméricos en las reseñas')\n",
        "\n",
        "plt.show()"
      ],
      "metadata": {
        "colab": {
          "base_uri": "https://localhost:8080/",
          "height": 311
        },
        "id": "f3gILjPZT_cG",
        "outputId": "3f18dce4-7499-4b45-c04b-bf8f52d49f60"
      },
      "execution_count": null,
      "outputs": [
        {
          "output_type": "display_data",
          "data": {
            "image/png": "[encoded data removed]",
            "text/plain": [
              "<Figure size 432x288 with 1 Axes>"
            ]
          },
          "metadata": {
            "needs_background": "light"
          }
        }
      ]
    },
    {
      "cell_type": "code",
      "source": [
        "# Repetimos el mismo proceso pero ahora para los tokens de la columna \n",
        "# '¿Es palabra de alto (stop-word) ?'.\n",
        "datos = caracteristicas_linguisticas['¿Es palabra de alto (stop-word) ?'].value_counts().plot(kind='bar')\n",
        "figura = datos.get_figure()\n",
        "\n",
        "plt.xlabel('¿Es palabra de alto (stop-word) ?')\n",
        "plt.ylabel('Número de aparición')\n",
        "plt.title('Tokens de palabras de alto en las reseñas')\n",
        "\n",
        "plt.show()"
      ],
      "metadata": {
        "colab": {
          "base_uri": "https://localhost:8080/",
          "height": 311
        },
        "id": "C7kVtJH2U7vh",
        "outputId": "85582f35-0f55-4662-e051-f8baa88f9271"
      },
      "execution_count": null,
      "outputs": [
        {
          "output_type": "display_data",
          "data": {
            "image/png": "[encoded data removed]",
            "text/plain": [
              "<Figure size 432x288 with 1 Axes>"
            ]
          },
          "metadata": {
            "needs_background": "light"
          }
        }
      ]
    }
  ]
}