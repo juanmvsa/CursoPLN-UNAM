{
  "nbformat": 4,
  "nbformat_minor": 0,
  "metadata": {
    "colab": {
      "name": "Semana 2 - Tipos de datos y variables",
      "provenance": [],
      "collapsed_sections": []
    },
    "kernelspec": {
      "name": "python3",
      "display_name": "Python 3"
    },
    "language_info": {
      "name": "python"
    }
  },
  "cells": [
    {
      "cell_type": "markdown",
      "metadata": {
        "id": "ihKFrb16S8ah"
      },
      "source": [
        "# 1. Asignación de variables"
      ]
    },
    {
      "cell_type": "markdown",
      "metadata": {
        "id": "d1lcIkWqulaw"
      },
      "source": [
        "En Python no se necesita especificar explícitamente el tipo de variable. En la imagen siguiente se observa que antes del nombre de la variable `age` aparece la palabra `int`. Esto es porque en otros lenguajes de programación sí se requiere especificar el tipo de variable al mismo tiempo de definir su nombre. Afortunadamente, Python, automáticamente, hace la definición del tipo de variables sin necesidad de hacerlo manualmente."
      ]
    },
    {
      "cell_type": "markdown",
      "metadata": {
        "id": "aIUd3J8ciRNo"
      },
      "source": [
        "![ffff.png](data:image/png;base64,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)"
      ]
    },
    {
      "cell_type": "markdown",
      "metadata": {
        "id": "AbO3j7i2S_Nb"
      },
      "source": [
        "# 2. Tipos de variables"
      ]
    },
    {
      "cell_type": "markdown",
      "metadata": {
        "id": "I-O4aHY7jNMc"
      },
      "source": [
        "## 2.1 Enteros"
      ]
    },
    {
      "cell_type": "code",
      "metadata": {
        "id": "Fxw3-Np2jhkG",
        "colab": {
          "base_uri": "https://localhost:8080/"
        },
        "outputId": "baa2e00d-93ff-4c6e-b206-ff575957f727"
      },
      "source": [
        "numero_entero = 100\n",
        "print(numero_entero)"
      ],
      "execution_count": null,
      "outputs": [
        {
          "output_type": "stream",
          "name": "stdout",
          "text": [
            "100\n"
          ]
        }
      ]
    },
    {
      "cell_type": "markdown",
      "metadata": {
        "id": "b_BYho9ujP0o"
      },
      "source": [
        "## 2.2 Float (decimales)"
      ]
    },
    {
      "cell_type": "code",
      "metadata": {
        "id": "PxWHj5Xijh8L",
        "colab": {
          "base_uri": "https://localhost:8080/"
        },
        "outputId": "82bffea7-d795-408e-e47a-3b79c407b9e8"
      },
      "source": [
        "numero_decimal = 1.1\n",
        "print(numero_decimal)"
      ],
      "execution_count": null,
      "outputs": [
        {
          "output_type": "stream",
          "name": "stdout",
          "text": [
            "1.1\n"
          ]
        }
      ]
    },
    {
      "cell_type": "code",
      "metadata": {
        "colab": {
          "base_uri": "https://localhost:8080/"
        },
        "id": "QFHem7ruMvuJ",
        "outputId": "64c3e3dd-f887-43c1-e29c-7e15cc563653"
      },
      "source": [
        "print(numero_entero + numero_decimal)"
      ],
      "execution_count": null,
      "outputs": [
        {
          "output_type": "stream",
          "name": "stdout",
          "text": [
            "101.1\n"
          ]
        }
      ]
    },
    {
      "cell_type": "markdown",
      "metadata": {
        "id": "OmrnONLIjU7L"
      },
      "source": [
        "## 2.3 Strings (texto)"
      ]
    },
    {
      "cell_type": "code",
      "metadata": {
        "id": "IFW6b7H8jik6",
        "colab": {
          "base_uri": "https://localhost:8080/"
        },
        "outputId": "9f82c516-0921-4fe5-829c-d2b7c3c743d6"
      },
      "source": [
        "texto = \"Hola mundo\"\n",
        "print(texto)"
      ],
      "execution_count": null,
      "outputs": [
        {
          "output_type": "stream",
          "name": "stdout",
          "text": [
            "Hola mundo\n"
          ]
        }
      ]
    },
    {
      "cell_type": "markdown",
      "metadata": {
        "id": "hhUhxuSrjYpO"
      },
      "source": [
        "## 2.4 Listas"
      ]
    },
    {
      "cell_type": "code",
      "metadata": {
        "id": "ktpg2IpqjjIQ"
      },
      "source": [
        "lista_ejemplo = [\"Lunes\", \"Martes\", \"Miércoles\", \"Jueves\", \"Viernes\"]"
      ],
      "execution_count": null,
      "outputs": []
    },
    {
      "cell_type": "code",
      "metadata": {
        "colab": {
          "base_uri": "https://localhost:8080/",
          "height": 164
        },
        "id": "ED5l8b3mB17E",
        "outputId": "775ef462-b954-4c7d-b8e1-48f7ebd35562"
      },
      "source": [
        "lista_ejemplo[5]"
      ],
      "execution_count": null,
      "outputs": [
        {
          "output_type": "error",
          "ename": "IndexError",
          "evalue": "ignored",
          "traceback": [
            "\u001b[0;31m---------------------------------------------------------------------------\u001b[0m",
            "\u001b[0;31mIndexError\u001b[0m                                Traceback (most recent call last)",
            "\u001b[0;32m<ipython-input-39-0ae77d18fcfd>\u001b[0m in \u001b[0;36m<module>\u001b[0;34m()\u001b[0m\n\u001b[0;32m----> 1\u001b[0;31m \u001b[0mlista_ejemplo\u001b[0m\u001b[0;34m[\u001b[0m\u001b[0;36m5\u001b[0m\u001b[0;34m]\u001b[0m\u001b[0;34m\u001b[0m\u001b[0;34m\u001b[0m\u001b[0m\n\u001b[0m",
            "\u001b[0;31mIndexError\u001b[0m: list index out of range"
          ]
        }
      ]
    },
    {
      "cell_type": "code",
      "metadata": {
        "colab": {
          "base_uri": "https://localhost:8080/"
        },
        "id": "AzlKA_EhPa2C",
        "outputId": "74c0cad5-c068-41b3-f8ee-60ceb0c613d1"
      },
      "source": [
        "lista_numeros = [1, 2, 3, 4, 5]\n",
        "print(lista_numeros)"
      ],
      "execution_count": null,
      "outputs": [
        {
          "output_type": "stream",
          "name": "stdout",
          "text": [
            "[1, 2, 3, 4, 5]\n"
          ]
        }
      ]
    },
    {
      "cell_type": "code",
      "metadata": {
        "colab": {
          "base_uri": "https://localhost:8080/"
        },
        "id": "Uq3pzxHUPiZQ",
        "outputId": "d10bccd1-b382-45b9-840b-4385531bdb72"
      },
      "source": [
        "lista_ejemplo2 = ['Lunes', 1, \"Martes\", 2]\n",
        "print(lista_ejemplo2)"
      ],
      "execution_count": null,
      "outputs": [
        {
          "output_type": "stream",
          "name": "stdout",
          "text": [
            "['Lunes', 1, 'Martes', 2]\n"
          ]
        }
      ]
    },
    {
      "cell_type": "code",
      "metadata": {
        "colab": {
          "base_uri": "https://localhost:8080/"
        },
        "id": "exmLkYluNL7X",
        "outputId": "f9479123-ced2-4b34-fbb6-0623365f0c1c"
      },
      "source": [
        "print(lista_ejemplo)"
      ],
      "execution_count": null,
      "outputs": [
        {
          "output_type": "stream",
          "name": "stdout",
          "text": [
            "['Lunes', 'Martes', 'Miércoles', 'Jueves', 'Viernes']\n"
          ]
        }
      ]
    },
    {
      "cell_type": "markdown",
      "metadata": {
        "id": "0JB9QCAejaci"
      },
      "source": [
        "## 2.5 Tuplas"
      ]
    },
    {
      "cell_type": "code",
      "metadata": {
        "id": "iresin_mjjht",
        "colab": {
          "base_uri": "https://localhost:8080/"
        },
        "outputId": "11a6aec1-adef-4c23-aed0-eceb0f85d3c0"
      },
      "source": [
        "tupla_ejemplo = (\"Lunes\", \"Martes\", \"Miércoles\", \"Jueves\", \"Viernes\")\n",
        "print(tupla_ejemplo)"
      ],
      "execution_count": null,
      "outputs": [
        {
          "output_type": "stream",
          "name": "stdout",
          "text": [
            "('Lunes', 'Martes', 'Miércoles', 'Jueves', 'Viernes')\n"
          ]
        }
      ]
    },
    {
      "cell_type": "code",
      "metadata": {
        "id": "JDO9pJWHOtkt"
      },
      "source": [
        "nueva_variable1 = list(tupla_ejemplo)"
      ],
      "execution_count": null,
      "outputs": []
    },
    {
      "cell_type": "code",
      "metadata": {
        "colab": {
          "base_uri": "https://localhost:8080/"
        },
        "id": "3ZaFrpAwAxmJ",
        "outputId": "e87f51e9-4e86-4658-a29f-ce1c0d2b241c"
      },
      "source": [
        "nueva_variable1"
      ],
      "execution_count": null,
      "outputs": [
        {
          "output_type": "execute_result",
          "data": {
            "text/plain": [
              "['Lunes', 'Martes', 'Miércoles', 'Jueves', 'Viernes']"
            ]
          },
          "metadata": {},
          "execution_count": 23
        }
      ]
    },
    {
      "cell_type": "code",
      "metadata": {
        "id": "983-B8U8O3-1"
      },
      "source": [
        "nueva_variable2 = tuple(lista_ejemplo)"
      ],
      "execution_count": null,
      "outputs": []
    },
    {
      "cell_type": "markdown",
      "metadata": {
        "id": "vJXVsEKDjb_Z"
      },
      "source": [
        "## 2.6 Diccionarios"
      ]
    },
    {
      "cell_type": "code",
      "metadata": {
        "id": "j8Qo63pcjkIr",
        "colab": {
          "base_uri": "https://localhost:8080/"
        },
        "outputId": "ef460956-4b6d-4846-f41e-e19a0c03e5b1"
      },
      "source": [
        "dicc = {\"Lunes\", \"Martes\", \"Miércoles\", \"Jueves\", \"Viernes\"}\n",
        "print(dicc)"
      ],
      "execution_count": null,
      "outputs": [
        {
          "output_type": "stream",
          "name": "stdout",
          "text": [
            "{'Lunes', 'Martes', 'Miércoles', 'Viernes', 'Jueves'}\n"
          ]
        }
      ]
    },
    {
      "cell_type": "markdown",
      "metadata": {
        "id": "tdXrB7SxjuSS"
      },
      "source": [
        "## 2.3 Booleans (lógicos)"
      ]
    },
    {
      "cell_type": "code",
      "metadata": {
        "id": "P1s6PxpRjwcy"
      },
      "source": [
        "a = True\n",
        "b = False"
      ],
      "execution_count": null,
      "outputs": []
    },
    {
      "cell_type": "code",
      "metadata": {
        "id": "FaukxQJ6j1B_",
        "colab": {
          "base_uri": "https://localhost:8080/"
        },
        "outputId": "5d8969d0-8b23-4eb9-ae33-a2cc74f1f5c9"
      },
      "source": [
        "a == b"
      ],
      "execution_count": null,
      "outputs": [
        {
          "output_type": "execute_result",
          "data": {
            "text/plain": [
              "False"
            ]
          },
          "metadata": {},
          "execution_count": 27
        }
      ]
    },
    {
      "cell_type": "markdown",
      "metadata": {
        "id": "uCLrgpE8TKtZ"
      },
      "source": [
        "# 3. Strings\n"
      ]
    },
    {
      "cell_type": "markdown",
      "metadata": {
        "id": "82HFVmuEkAQ1"
      },
      "source": [
        "Para los lingüistas, los strings son el tipo de dato más importante. El trabajo que hacen mayormente es con letras, palabras y oraciones, las cuales son representadas computacionalmente por medio de strings."
      ]
    },
    {
      "cell_type": "code",
      "metadata": {
        "id": "fKgaTtP7kT_3"
      },
      "source": [
        "string1 = \"Texto\""
      ],
      "execution_count": null,
      "outputs": []
    },
    {
      "cell_type": "code",
      "metadata": {
        "id": "8QqUUgdhkqjT",
        "colab": {
          "base_uri": "https://localhost:8080/"
        },
        "outputId": "af260d14-1f10-4fa4-eb00-5dec24bfce88"
      },
      "source": [
        "print(string1)"
      ],
      "execution_count": null,
      "outputs": [
        {
          "output_type": "stream",
          "name": "stdout",
          "text": [
            "Texto\n"
          ]
        }
      ]
    },
    {
      "cell_type": "code",
      "metadata": {
        "id": "tALXq0y7kXWD"
      },
      "source": [
        "string2 = '''Esta es una cadena\n",
        "que contiene más de \n",
        "una línea. Por lo tanto\n",
        "se escribe con tres \n",
        "comillas consecutivas.'''"
      ],
      "execution_count": null,
      "outputs": []
    },
    {
      "cell_type": "code",
      "metadata": {
        "colab": {
          "base_uri": "https://localhost:8080/"
        },
        "id": "mqTiQA5hkh0-",
        "outputId": "001c6361-5f43-4611-96df-8989d8a4150f"
      },
      "source": [
        "print(string2)"
      ],
      "execution_count": null,
      "outputs": [
        {
          "output_type": "stream",
          "name": "stdout",
          "text": [
            "Esta es una cadena\n",
            "que contiene más de \n",
            "una línea. Por lo tanto\n",
            "se escribe con tres \n",
            "comillas consecutivas.\n"
          ]
        }
      ]
    },
    {
      "cell_type": "code",
      "metadata": {
        "colab": {
          "base_uri": "https://localhost:8080/",
          "height": 35
        },
        "id": "fMucw4-LnW6i",
        "outputId": "c4295887-0f7d-4ec3-ead4-21172c6dd377"
      },
      "source": [
        "string2[0]"
      ],
      "execution_count": null,
      "outputs": [
        {
          "output_type": "execute_result",
          "data": {
            "application/vnd.google.colaboratory.intrinsic+json": {
              "type": "string"
            },
            "text/plain": [
              "'E'"
            ]
          },
          "metadata": {},
          "execution_count": 42
        }
      ]
    },
    {
      "cell_type": "markdown",
      "metadata": {
        "id": "eMwv3a8Kk-Ck"
      },
      "source": [
        "## 3.2 Comparación"
      ]
    },
    {
      "cell_type": "code",
      "metadata": {
        "colab": {
          "base_uri": "https://localhost:8080/"
        },
        "id": "YLmVkD5Jk_dp",
        "outputId": "53c47858-5442-4978-9f5d-e492f2d92a2e"
      },
      "source": [
        "'gato' == 'gato'"
      ],
      "execution_count": null,
      "outputs": [
        {
          "output_type": "execute_result",
          "data": {
            "text/plain": [
              "True"
            ]
          },
          "metadata": {},
          "execution_count": 45
        }
      ]
    },
    {
      "cell_type": "code",
      "metadata": {
        "id": "9vrEZD-jlEsG",
        "colab": {
          "base_uri": "https://localhost:8080/"
        },
        "outputId": "887bfed3-ab2d-45e4-dbb4-6b7f793e3695"
      },
      "source": [
        "a = 'gato'\n",
        "b = 'perro'\n",
        "# el signo == compara\n",
        "# el signo = asigna valores a variables\n",
        "# no son intercambiables estos signos \n",
        "a == b\n",
        "print(a)"
      ],
      "execution_count": null,
      "outputs": [
        {
          "output_type": "stream",
          "name": "stdout",
          "text": [
            "gato\n"
          ]
        }
      ]
    },
    {
      "cell_type": "code",
      "metadata": {
        "colab": {
          "base_uri": "https://localhost:8080/"
        },
        "id": "Kf0GXw6IlHWD",
        "outputId": "6dfde1df-390c-48a8-a7a0-8e2d7c853678"
      },
      "source": [
        "a < b"
      ],
      "execution_count": null,
      "outputs": [
        {
          "output_type": "execute_result",
          "data": {
            "text/plain": [
              "True"
            ]
          },
          "metadata": {},
          "execution_count": 49
        }
      ]
    },
    {
      "cell_type": "code",
      "metadata": {
        "colab": {
          "base_uri": "https://localhost:8080/"
        },
        "id": "Z6WvhVA5llyI",
        "outputId": "9d1a08cb-f6a8-4c4f-cfa8-69eca0a845b0"
      },
      "source": [
        "a > b"
      ],
      "execution_count": null,
      "outputs": [
        {
          "output_type": "execute_result",
          "data": {
            "text/plain": [
              "False"
            ]
          },
          "metadata": {},
          "execution_count": 50
        }
      ]
    },
    {
      "cell_type": "markdown",
      "metadata": {
        "id": "1dQfYXrulp2W"
      },
      "source": [
        "## 3.3 Longitud"
      ]
    },
    {
      "cell_type": "code",
      "metadata": {
        "id": "cwss0vLYluFu"
      },
      "source": [
        "texto = '''Esta es una cadena\n",
        "que contiene más de \n",
        "una línea. Por lo tanto\n",
        "se escribe con tres \n",
        "comillas consecutivas.'''"
      ],
      "execution_count": null,
      "outputs": []
    },
    {
      "cell_type": "code",
      "metadata": {
        "colab": {
          "base_uri": "https://localhost:8080/"
        },
        "id": "V55u6Vy3lwzy",
        "outputId": "b87dc1a3-a3e9-4990-8254-0e792de5cd20"
      },
      "source": [
        "len(texto)"
      ],
      "execution_count": null,
      "outputs": [
        {
          "output_type": "execute_result",
          "data": {
            "text/plain": [
              "107"
            ]
          },
          "metadata": {},
          "execution_count": 52
        }
      ]
    },
    {
      "cell_type": "code",
      "metadata": {
        "id": "K1jocpEdlzjB",
        "colab": {
          "base_uri": "https://localhost:8080/"
        },
        "outputId": "c6367e6a-1117-42c0-ffb5-e0860d406785"
      },
      "source": [
        "if (len(texto) > len(a)):\n",
        "  print(\"Verdadero\")"
      ],
      "execution_count": null,
      "outputs": [
        {
          "output_type": "stream",
          "name": "stdout",
          "text": [
            "Verdadero\n"
          ]
        }
      ]
    },
    {
      "cell_type": "markdown",
      "metadata": {
        "id": "qTKShgQEnkaW"
      },
      "source": [
        "# 4. Listas"
      ]
    },
    {
      "cell_type": "markdown",
      "metadata": {
        "id": "ewSTDzI2nonl"
      },
      "source": [
        "## 4.1 Longitud"
      ]
    },
    {
      "cell_type": "code",
      "metadata": {
        "colab": {
          "base_uri": "https://localhost:8080/"
        },
        "id": "1aSTU_cWntt3",
        "outputId": "faeb0b95-713f-4d85-ce13-db6ef30ab5f0"
      },
      "source": [
        "# len(frutas) imprime el número de elementos en la lista frutas\n",
        "frutas = ['manzana', 'pera', 'naranja', 'uvas', 'sandía']\n",
        "len(frutas)"
      ],
      "execution_count": null,
      "outputs": [
        {
          "output_type": "execute_result",
          "data": {
            "text/plain": [
              "5"
            ]
          },
          "metadata": {},
          "execution_count": 64
        }
      ]
    },
    {
      "cell_type": "markdown",
      "metadata": {
        "id": "EeaeTLuPn-X2"
      },
      "source": [
        "## 4.2 Añadir elementos - append()"
      ]
    },
    {
      "cell_type": "code",
      "metadata": {
        "colab": {
          "base_uri": "https://localhost:8080/"
        },
        "id": "O1M-Zn99n6dY",
        "outputId": "394dc7ef-1093-4f26-9c53-a39af359091a"
      },
      "source": [
        "# nombre de la lista . append('elemento a añadir')\n",
        "\n",
        "frutas.append('plátano')\n",
        "print(frutas)"
      ],
      "execution_count": null,
      "outputs": [
        {
          "output_type": "stream",
          "name": "stdout",
          "text": [
            "['manzana', 'pera', 'naranja', 'uvas', 'sandía', 'plátano']\n"
          ]
        }
      ]
    },
    {
      "cell_type": "markdown",
      "metadata": {
        "id": "mISaLfUhoKRm"
      },
      "source": [
        "## 4.3 Eliminar elementos - pop()"
      ]
    },
    {
      "cell_type": "code",
      "metadata": {
        "colab": {
          "base_uri": "https://localhost:8080/"
        },
        "id": "uNYVWZI7oPDH",
        "outputId": "a1f8f7e4-b655-48fb-a5d7-5391a0a85505"
      },
      "source": [
        "frutas.pop()\n",
        "print(frutas)"
      ],
      "execution_count": null,
      "outputs": [
        {
          "output_type": "stream",
          "name": "stdout",
          "text": [
            "['manzana', 'pera', 'naranja']\n"
          ]
        }
      ]
    },
    {
      "cell_type": "code",
      "metadata": {
        "colab": {
          "base_uri": "https://localhost:8080/"
        },
        "id": "iHGG64M5oa1W",
        "outputId": "90efdbea-11ef-45f5-ce98-1c6fd36fa549"
      },
      "source": [
        "frutas.pop(1)\n",
        "print(frutas)"
      ],
      "execution_count": null,
      "outputs": [
        {
          "output_type": "stream",
          "name": "stdout",
          "text": [
            "['manzana', 'naranja', 'uvas', 'sandía']\n"
          ]
        }
      ]
    },
    {
      "cell_type": "markdown",
      "metadata": {
        "id": "2Gy5WDWiotdb"
      },
      "source": [
        "## 4.4 Ordenar elementos - sort()"
      ]
    },
    {
      "cell_type": "code",
      "metadata": {
        "colab": {
          "base_uri": "https://localhost:8080/"
        },
        "id": "OhWxeQaHotBW",
        "outputId": "a3337414-507d-482b-f384-a671fbf22989"
      },
      "source": [
        "frutas.sort()\n",
        "print(frutas)"
      ],
      "execution_count": null,
      "outputs": [
        {
          "output_type": "stream",
          "name": "stdout",
          "text": [
            "['manzana', 'naranja', 'sandía', 'uvas']\n"
          ]
        }
      ]
    },
    {
      "cell_type": "markdown",
      "metadata": {
        "id": "nIWsBTpnq6ih"
      },
      "source": [
        "## 4.5 Acceder a elementos individuales"
      ]
    },
    {
      "cell_type": "code",
      "metadata": {
        "colab": {
          "base_uri": "https://localhost:8080/",
          "height": 35
        },
        "id": "aY8hbM8qrBEt",
        "outputId": "5d8ba93a-1c13-41ee-cc55-88b81c5e5b9d"
      },
      "source": [
        "frutas[2]"
      ],
      "execution_count": null,
      "outputs": [
        {
          "output_type": "execute_result",
          "data": {
            "application/vnd.google.colaboratory.intrinsic+json": {
              "type": "string"
            },
            "text/plain": [
              "'uvas'"
            ]
          },
          "metadata": {},
          "execution_count": 67
        }
      ]
    },
    {
      "cell_type": "markdown",
      "metadata": {
        "id": "3hiLcq5VpLxk"
      },
      "source": [
        "## 4.6 Slices "
      ]
    },
    {
      "cell_type": "markdown",
      "metadata": {
        "id": "y1y_-ftupgxF"
      },
      "source": [
        "![list.jpeg](data:image/jpeg;base64,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)"
      ]
    },
    {
      "cell_type": "code",
      "metadata": {
        "colab": {
          "base_uri": "https://localhost:8080/"
        },
        "id": "nVX0Jtecpr2Z",
        "outputId": "53728d8d-f91f-4fcc-efcc-3ae32df5eab7"
      },
      "source": [
        "slicing = \"geeksforgeeks\"\n",
        "len(slicing)"
      ],
      "execution_count": null,
      "outputs": [
        {
          "output_type": "execute_result",
          "data": {
            "text/plain": [
              "13"
            ]
          },
          "metadata": {},
          "execution_count": 68
        }
      ]
    },
    {
      "cell_type": "code",
      "metadata": {
        "colab": {
          "base_uri": "https://localhost:8080/"
        },
        "id": "lFIa04StGTZU",
        "outputId": "20c002a0-d129-4309-d40d-0887a311452b"
      },
      "source": [
        "# [inclusivo:no-inclusivo]\n",
        "variable = slicing[1:3]\n",
        "print(slicing)"
      ],
      "execution_count": null,
      "outputs": [
        {
          "output_type": "stream",
          "name": "stdout",
          "text": [
            "otra cosa\n"
          ]
        }
      ]
    },
    {
      "cell_type": "code",
      "metadata": {
        "colab": {
          "base_uri": "https://localhost:8080/",
          "height": 35
        },
        "id": "hWmRIkmtpzsV",
        "outputId": "be84d2d9-c493-4cf2-8499-8a5b2dab9ccc"
      },
      "source": [
        "slicing[0:13]"
      ],
      "execution_count": null,
      "outputs": [
        {
          "output_type": "execute_result",
          "data": {
            "application/vnd.google.colaboratory.intrinsic+json": {
              "type": "string"
            },
            "text/plain": [
              "'otra cosa'"
            ]
          },
          "metadata": {},
          "execution_count": 78
        }
      ]
    },
    {
      "cell_type": "code",
      "metadata": {
        "colab": {
          "base_uri": "https://localhost:8080/",
          "height": 35
        },
        "id": "j7RsW62eqQo1",
        "outputId": "bab15384-8673-4c02-92dc-dca750d761fb"
      },
      "source": [
        "slicing[-13:]"
      ],
      "execution_count": null,
      "outputs": [
        {
          "output_type": "execute_result",
          "data": {
            "application/vnd.google.colaboratory.intrinsic+json": {
              "type": "string"
            },
            "text/plain": [
              "'geeksforgeeks'"
            ]
          },
          "metadata": {},
          "execution_count": 70
        }
      ]
    },
    {
      "cell_type": "code",
      "metadata": {
        "colab": {
          "base_uri": "https://localhost:8080/",
          "height": 35
        },
        "id": "igq66j_5pOPX",
        "outputId": "b9526e30-4d39-4bba-b421-d5df0bc7fd1d"
      },
      "source": [
        "slicing[-13:-1]"
      ],
      "execution_count": null,
      "outputs": [
        {
          "output_type": "execute_result",
          "data": {
            "application/vnd.google.colaboratory.intrinsic+json": {
              "type": "string"
            },
            "text/plain": [
              "'geeksforgeek'"
            ]
          },
          "metadata": {},
          "execution_count": 52
        }
      ]
    },
    {
      "cell_type": "code",
      "metadata": {
        "colab": {
          "base_uri": "https://localhost:8080/",
          "height": 35
        },
        "id": "qqaUKT3WqAKo",
        "outputId": "5cb17eaf-391e-416d-f3ff-5cecf50b1f81"
      },
      "source": [
        "slicing[:13]"
      ],
      "execution_count": null,
      "outputs": [
        {
          "output_type": "execute_result",
          "data": {
            "application/vnd.google.colaboratory.intrinsic+json": {
              "type": "string"
            },
            "text/plain": [
              "'geeksforgeeks'"
            ]
          },
          "metadata": {},
          "execution_count": 54
        }
      ]
    },
    {
      "cell_type": "code",
      "metadata": {
        "colab": {
          "base_uri": "https://localhost:8080/"
        },
        "id": "Z5sCZmtbqWyb",
        "outputId": "f9c167c8-7588-4449-bcfe-56538d21f9d7"
      },
      "source": [
        "numeros = [1,2,3,4,5,6,7,8,9,10]\n",
        "primera_mitad = numeros[:5]\n",
        "print(primera_mitad)"
      ],
      "execution_count": null,
      "outputs": [
        {
          "output_type": "stream",
          "name": "stdout",
          "text": [
            "[1, 2, 3, 4, 5]\n"
          ]
        }
      ]
    },
    {
      "cell_type": "code",
      "metadata": {
        "colab": {
          "base_uri": "https://localhost:8080/"
        },
        "id": "Tr1j6_Teqkq8",
        "outputId": "8aa2fcba-e320-44c6-aff7-12d2aa36b038"
      },
      "source": [
        "segunda_mitad = numeros[5:]\n",
        "print(segunda_mitad)"
      ],
      "execution_count": null,
      "outputs": [
        {
          "output_type": "stream",
          "name": "stdout",
          "text": [
            "[6, 7, 8, 9, 10]\n"
          ]
        }
      ]
    },
    {
      "cell_type": "code",
      "metadata": {
        "colab": {
          "base_uri": "https://localhost:8080/"
        },
        "id": "wWSRlFSPquSo",
        "outputId": "63c0a340-b29e-413c-b1fb-b77940ff4876"
      },
      "source": [
        "primera_mitad + segunda_mitad"
      ],
      "execution_count": null,
      "outputs": [
        {
          "output_type": "execute_result",
          "data": {
            "text/plain": [
              "[1, 2, 3, 4, 5, 6, 7, 8, 9, 10]"
            ]
          },
          "metadata": {},
          "execution_count": 81
        }
      ]
    },
    {
      "cell_type": "code",
      "metadata": {
        "colab": {
          "base_uri": "https://localhost:8080/"
        },
        "id": "g06uqdULH2xt",
        "outputId": "3d50fc7a-bc2e-4c28-8c51-1747f93478cc"
      },
      "source": [
        "nombre = 'Juan'\n",
        "apellido = ' Vasquez'\n",
        "print(nombre + apellido)"
      ],
      "execution_count": null,
      "outputs": [
        {
          "output_type": "stream",
          "name": "stdout",
          "text": [
            "Juan Vasquez\n"
          ]
        }
      ]
    },
    {
      "cell_type": "markdown",
      "metadata": {
        "id": "IMG1u0clrTKA"
      },
      "source": [
        "# 5. Tuplas\n",
        "Son un tipo de dato fijo. Esto quiere decir que los elementos dentro de las tuplas no pueden ser modificados una vez que son definidos. \n",
        "Su funcionamiento es muy similar al de las listas."
      ]
    },
    {
      "cell_type": "code",
      "metadata": {
        "colab": {
          "base_uri": "https://localhost:8080/",
          "height": 35
        },
        "id": "QFSSiFSzrffp",
        "outputId": "ebc864aa-46ff-4e78-a79c-8bbbefac9fd7"
      },
      "source": [
        "frutas = ('manzana', 'pera', 'naranja', 'uvas', 'sandía')\n",
        "frutas[1]"
      ],
      "execution_count": null,
      "outputs": [
        {
          "output_type": "execute_result",
          "data": {
            "application/vnd.google.colaboratory.intrinsic+json": {
              "type": "string"
            },
            "text/plain": [
              "'pera'"
            ]
          },
          "metadata": {},
          "execution_count": 85
        }
      ]
    },
    {
      "cell_type": "code",
      "metadata": {
        "colab": {
          "base_uri": "https://localhost:8080/"
        },
        "id": "OYjjxDpirnad",
        "outputId": "d37c76fd-e128-49d7-f0f6-560be457d491"
      },
      "source": [
        "len(frutas)"
      ],
      "execution_count": null,
      "outputs": [
        {
          "output_type": "execute_result",
          "data": {
            "text/plain": [
              "5"
            ]
          },
          "metadata": {},
          "execution_count": 86
        }
      ]
    },
    {
      "cell_type": "code",
      "metadata": {
        "id": "FT-4OA7drpBF",
        "colab": {
          "base_uri": "https://localhost:8080/",
          "height": 164
        },
        "outputId": "d81a90ec-1048-48c2-e529-76ca04a034ad"
      },
      "source": [
        "frutas.pop()"
      ],
      "execution_count": null,
      "outputs": [
        {
          "output_type": "error",
          "ename": "AttributeError",
          "evalue": "ignored",
          "traceback": [
            "\u001b[0;31m---------------------------------------------------------------------------\u001b[0m",
            "\u001b[0;31mAttributeError\u001b[0m                            Traceback (most recent call last)",
            "\u001b[0;32m<ipython-input-87-45a1a63b2f74>\u001b[0m in \u001b[0;36m<module>\u001b[0;34m()\u001b[0m\n\u001b[0;32m----> 1\u001b[0;31m \u001b[0mfrutas\u001b[0m\u001b[0;34m.\u001b[0m\u001b[0mpop\u001b[0m\u001b[0;34m(\u001b[0m\u001b[0;34m)\u001b[0m\u001b[0;34m\u001b[0m\u001b[0;34m\u001b[0m\u001b[0m\n\u001b[0m",
            "\u001b[0;31mAttributeError\u001b[0m: 'tuple' object has no attribute 'pop'"
          ]
        }
      ]
    },
    {
      "cell_type": "code",
      "metadata": {
        "colab": {
          "base_uri": "https://localhost:8080/"
        },
        "id": "OdFlxUcgrtaV",
        "outputId": "687c189a-7087-486a-9554-bbddbf834864"
      },
      "source": [
        "lista_frutas = list(frutas)\n",
        "print(lista_frutas)"
      ],
      "execution_count": null,
      "outputs": [
        {
          "output_type": "stream",
          "name": "stdout",
          "text": [
            "['manzana', 'pera', 'naranja', 'uvas', 'sandía']\n"
          ]
        }
      ]
    },
    {
      "cell_type": "code",
      "metadata": {
        "colab": {
          "base_uri": "https://localhost:8080/"
        },
        "id": "PJWgYVHfrzBQ",
        "outputId": "76abd3d1-c81f-4158-f437-0a2183ecfc2d"
      },
      "source": [
        "lista_frutas.pop()\n",
        "print(lista_frutas)"
      ],
      "execution_count": null,
      "outputs": [
        {
          "output_type": "stream",
          "name": "stdout",
          "text": [
            "['manzana', 'pera', 'naranja', 'uvas']\n"
          ]
        }
      ]
    },
    {
      "cell_type": "markdown",
      "metadata": {
        "id": "U5BrnqRssH-X"
      },
      "source": [
        "# 6. Diccionarios\n",
        "Este tipo de datos son conjuntos de pares de elementos. \n",
        "\n",
        "El primer elemento de cada conjunto puede ser utilizado para buscar al segundo elemento. \n",
        "\n",
        "Se refieren a los elementos dentro de un diccionario como `\"llaves\": valores`.\n",
        "\n",
        "Muchas de las funciones para listas y tuplas también sirven para diccionarios."
      ]
    },
    {
      "cell_type": "code",
      "metadata": {
        "colab": {
          "base_uri": "https://localhost:8080/"
        },
        "id": "MdUYIWeCsZds",
        "outputId": "a426100e-a9ed-4e58-fc33-8fe0b9c57654"
      },
      "source": [
        "calificaciones = {'Luis': 10,\n",
        "                  'Martha': 9,\n",
        "                  'Ana': 10,\n",
        "                  'Pedro': 7}\n",
        "                  \n",
        "print(calificaciones)"
      ],
      "execution_count": null,
      "outputs": [
        {
          "output_type": "stream",
          "name": "stdout",
          "text": [
            "{'Luis': 10, 'Martha': 9, 'Ana': 10, 'Pedro': 7}\n"
          ]
        }
      ]
    },
    {
      "cell_type": "code",
      "metadata": {
        "colab": {
          "base_uri": "https://localhost:8080/"
        },
        "id": "83LFI1gVsm7f",
        "outputId": "5672c657-7abc-4dde-e96d-d6c4d9217060"
      },
      "source": [
        "calificaciones['Pedro']"
      ],
      "execution_count": null,
      "outputs": [
        {
          "output_type": "execute_result",
          "data": {
            "text/plain": [
              "7"
            ]
          },
          "metadata": {},
          "execution_count": 92
        }
      ]
    },
    {
      "cell_type": "code",
      "metadata": {
        "colab": {
          "base_uri": "https://localhost:8080/"
        },
        "id": "DQxcC4j7srmK",
        "outputId": "7a84aea2-33cc-4c2d-9b41-756d3e2f7c96"
      },
      "source": [
        "len(calificaciones)"
      ],
      "execution_count": null,
      "outputs": [
        {
          "output_type": "execute_result",
          "data": {
            "text/plain": [
              "4"
            ]
          },
          "metadata": {},
          "execution_count": 94
        }
      ]
    },
    {
      "cell_type": "code",
      "metadata": {
        "colab": {
          "base_uri": "https://localhost:8080/"
        },
        "id": "4q_7nueoJf9J",
        "outputId": "cff661e9-b5cb-4dc2-85ab-e995fbea8039"
      },
      "source": [
        "calificaciones['Luis']"
      ],
      "execution_count": null,
      "outputs": [
        {
          "output_type": "execute_result",
          "data": {
            "text/plain": [
              "10"
            ]
          },
          "metadata": {},
          "execution_count": 96
        }
      ]
    },
    {
      "cell_type": "markdown",
      "metadata": {
        "id": "oaVNrEE6s8rM"
      },
      "source": [
        "## 6.1 Pertenencia - in"
      ]
    },
    {
      "cell_type": "code",
      "metadata": {
        "colab": {
          "base_uri": "https://localhost:8080/"
        },
        "id": "ioRJbOQiszDj",
        "outputId": "eae68e53-5c4f-43bb-f9eb-dfec77c3dafa"
      },
      "source": [
        "'Luis' in calificaciones"
      ],
      "execution_count": null,
      "outputs": [
        {
          "output_type": "execute_result",
          "data": {
            "text/plain": [
              "True"
            ]
          },
          "metadata": {},
          "execution_count": 97
        }
      ]
    },
    {
      "cell_type": "code",
      "metadata": {
        "colab": {
          "base_uri": "https://localhost:8080/"
        },
        "id": "76MU-IbruE2m",
        "outputId": "a4623fb4-1663-4a08-8258-2b366363d520"
      },
      "source": [
        "'Carlos' in calificaciones"
      ],
      "execution_count": null,
      "outputs": [
        {
          "output_type": "execute_result",
          "data": {
            "text/plain": [
              "False"
            ]
          },
          "metadata": {},
          "execution_count": 98
        }
      ]
    },
    {
      "cell_type": "markdown",
      "metadata": {
        "id": "E4alla8Us_cw"
      },
      "source": [
        "## 6.2 Eliminar un elemento"
      ]
    },
    {
      "cell_type": "code",
      "metadata": {
        "colab": {
          "base_uri": "https://localhost:8080/"
        },
        "id": "sde0p7dwtD1k",
        "outputId": "f40dbcf1-252b-44ef-a3e6-3889503abbbf"
      },
      "source": [
        "del(calificaciones['Ana'])\n",
        "print(calificaciones)"
      ],
      "execution_count": null,
      "outputs": [
        {
          "output_type": "stream",
          "name": "stdout",
          "text": [
            "{'Luis': 10, 'Martha': 9, 'Pedro': 7}\n"
          ]
        }
      ]
    },
    {
      "cell_type": "markdown",
      "metadata": {
        "id": "vI0UpQ5ftNQe"
      },
      "source": [
        "## 6.3 Listar todas las llaves de un diccionario"
      ]
    },
    {
      "cell_type": "code",
      "metadata": {
        "colab": {
          "base_uri": "https://localhost:8080/"
        },
        "id": "F1Ki7gfFtQ8B",
        "outputId": "e03df260-0b68-4d4f-a2ff-2fd5fd0dc195"
      },
      "source": [
        "calificaciones.keys()"
      ],
      "execution_count": null,
      "outputs": [
        {
          "output_type": "execute_result",
          "data": {
            "text/plain": [
              "dict_keys(['Luis', 'Martha', 'Pedro'])"
            ]
          },
          "metadata": {},
          "execution_count": 100
        }
      ]
    },
    {
      "cell_type": "markdown",
      "metadata": {
        "id": "DZtkRoqOtV3n"
      },
      "source": [
        "## 6.4 Listar todos los valores en un diccionario"
      ]
    },
    {
      "cell_type": "code",
      "metadata": {
        "colab": {
          "base_uri": "https://localhost:8080/"
        },
        "id": "GOWpilEWt0um",
        "outputId": "ad177467-a7ae-4ebb-d13d-982d7c52b4d1"
      },
      "source": [
        "calificaciones.values()"
      ],
      "execution_count": null,
      "outputs": [
        {
          "output_type": "execute_result",
          "data": {
            "text/plain": [
              "dict_values([10, 9, 7])"
            ]
          },
          "metadata": {},
          "execution_count": 101
        }
      ]
    },
    {
      "cell_type": "markdown",
      "metadata": {
        "id": "8UoSX6OduMT-"
      },
      "source": [
        "## 6.5 Añadir elementos a un diccionario"
      ]
    },
    {
      "cell_type": "code",
      "metadata": {
        "colab": {
          "base_uri": "https://localhost:8080/"
        },
        "id": "doQYhRS4uPAp",
        "outputId": "27d3bfa1-f90b-463f-8b35-028730fe0327"
      },
      "source": [
        "calificaciones['Carlos'] = 8 \n",
        "print(calificaciones)"
      ],
      "execution_count": null,
      "outputs": [
        {
          "output_type": "stream",
          "name": "stdout",
          "text": [
            "{'Luis': 10, 'Martha': 9, 'Pedro': 7, 'Carlos': 8}\n"
          ]
        }
      ]
    },
    {
      "cell_type": "code",
      "metadata": {
        "colab": {
          "base_uri": "https://localhost:8080/"
        },
        "id": "5rNzdNvPKvjB",
        "outputId": "441a9a43-de3d-45e1-e96d-8ef7622654e9"
      },
      "source": [
        "8 + 8"
      ],
      "execution_count": null,
      "outputs": [
        {
          "output_type": "execute_result",
          "data": {
            "text/plain": [
              "16"
            ]
          },
          "metadata": {},
          "execution_count": 104
        }
      ]
    },
    {
      "cell_type": "code",
      "metadata": {
        "colab": {
          "base_uri": "https://localhost:8080/"
        },
        "id": "ESGplKC5uV6D",
        "outputId": "56d0e67b-c472-41a0-adc9-c910da221f43"
      },
      "source": [
        "calificaciones['Regina'] = 10\n",
        "print(calificaciones)"
      ],
      "execution_count": null,
      "outputs": [
        {
          "output_type": "stream",
          "name": "stdout",
          "text": [
            "{'Luis': 10, 'Martha': 9, 'Pedro': 7, 'Carlos': 8, 'Regina': 10}\n"
          ]
        }
      ]
    },
    {
      "cell_type": "code",
      "metadata": {
        "colab": {
          "base_uri": "https://localhost:8080/"
        },
        "id": "zzZZk1aDLJpL",
        "outputId": "c740119a-2dec-4677-be50-bfa08513de17"
      },
      "source": [
        "print(calificaciones)"
      ],
      "execution_count": null,
      "outputs": [
        {
          "output_type": "stream",
          "name": "stdout",
          "text": [
            "{'Luis': 10, 'Martha': 9, 'Pedro': 7, 'Carlos': 8, 'Regina': 10}\n"
          ]
        }
      ]
    },
    {
      "cell_type": "markdown",
      "metadata": {
        "id": "zoUmqa3qUA_Q"
      },
      "source": [
        "# Ejercicios"
      ]
    },
    {
      "cell_type": "code",
      "metadata": {
        "id": "jlbGTYA85g-T"
      },
      "source": [
        "# Busca si la palabra \"es\" esta en el texto\n",
        "ejemplo1 = 'Este es un ejemplo'"
      ],
      "execution_count": null,
      "outputs": []
    },
    {
      "cell_type": "code",
      "metadata": {
        "colab": {
          "base_uri": "https://localhost:8080/"
        },
        "id": "RD-x1HWFNFZ0",
        "outputId": "04bbcf0d-22c3-4331-e58d-4986db8d7fb4"
      },
      "source": [
        "\"abc\" in ejemplo1"
      ],
      "execution_count": null,
      "outputs": [
        {
          "output_type": "execute_result",
          "data": {
            "text/plain": [
              "False"
            ]
          },
          "metadata": {},
          "execution_count": 115
        }
      ]
    },
    {
      "cell_type": "code",
      "metadata": {
        "id": "jXysjNcA5wS4"
      },
      "source": [
        "# Imprime todo el texto en mayúsculas\n",
        "mayusculas = ejemplo1.upper()"
      ],
      "execution_count": null,
      "outputs": []
    },
    {
      "cell_type": "code",
      "metadata": {
        "colab": {
          "base_uri": "https://localhost:8080/"
        },
        "id": "XeaHQFcSNVsE",
        "outputId": "b1a03cdd-0b4b-41cd-9dcc-9795ed47f4a2"
      },
      "source": [
        "# el ' ' significa espacio en blanco. Se pone pues\n",
        "# Python no separa las palabras si no se le dice explicitamente\n",
        "print(mayusculas + ' ' + ejemplo1)"
      ],
      "execution_count": null,
      "outputs": [
        {
          "output_type": "stream",
          "name": "stdout",
          "text": [
            "ESTE ES UN EJEMPLO Este es un ejemplo\n"
          ]
        }
      ]
    },
    {
      "cell_type": "code",
      "metadata": {
        "id": "7kUvvCBF53K7"
      },
      "source": [
        "# Escribe código que imprima los elementos de una lista en las posiciones 0, 4 y 5.\n",
        "ejemplo3 = ['Rojo', 'Verde', 'Blanco', 'Negro', 'Rosa', 'Amarillo']"
      ],
      "execution_count": null,
      "outputs": []
    },
    {
      "cell_type": "code",
      "metadata": {
        "colab": {
          "base_uri": "https://localhost:8080/",
          "height": 35
        },
        "id": "PG1QF9lINvNx",
        "outputId": "d5e4559a-4d5b-48a6-9715-56fa7c6d1def"
      },
      "source": [
        "ejemplo3.pop(5)"
      ],
      "execution_count": null,
      "outputs": [
        {
          "output_type": "execute_result",
          "data": {
            "application/vnd.google.colaboratory.intrinsic+json": {
              "type": "string"
            },
            "text/plain": [
              "'Rojo'"
            ]
          },
          "metadata": {},
          "execution_count": 124
        }
      ]
    },
    {
      "cell_type": "markdown",
      "metadata": {
        "id": "EdN_NmFYv3FG"
      },
      "source": [
        "https://www.tutorialspoint.com/python-string-methods"
      ]
    }
  ]
}